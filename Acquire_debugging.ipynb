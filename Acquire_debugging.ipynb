{
 "cells": [
  {
   "cell_type": "code",
   "execution_count": 1,
   "metadata": {},
   "outputs": [],
   "source": [
    "import pandas as pd\n",
    "import acquire as aq"
   ]
  },
  {
   "cell_type": "code",
   "execution_count": 2,
   "metadata": {},
   "outputs": [],
   "source": [
    "df1,df2,df3 = aq.csv_to_dataframes(\"./csvs/2018-08-27_through_2018-09-26.csv\")"
   ]
  },
  {
   "cell_type": "code",
   "execution_count": null,
   "metadata": {},
   "outputs": [],
   "source": [
    "!ls ./csvs"
   ]
  },
  {
   "cell_type": "code",
   "execution_count": 3,
   "metadata": {},
   "outputs": [],
   "source": [
    "csvs = [\"2018-04-26_through_2018-05-26.csv\",  \"2018-08-27_through_2018-09-26.csv\",\n",
    "\"2018-05-27_through_2018-06-26.csv\",  \"2018-09-27_through_2018-10-27.csv\",\n",
    "\"2018-06-27_through_2018-07-27.csv\",  \"2018-10-28_through-2018-11-27.csv\",\n",
    "\"2018-07-28_through_2018-08-26.csv\",  \"2018-11-28_through_2018-12-28.csv\"]\n",
    "\n",
    "\n"
   ]
  },
  {
   "cell_type": "code",
   "execution_count": 4,
   "metadata": {},
   "outputs": [],
   "source": [
    "file = open('csvs/2018-09-27_through_2018-10-27.csv').readlines()\n",
    "for index, line in enumerate(file):\n",
    "    file[index] = line.replace('\\n','')"
   ]
  },
  {
   "cell_type": "code",
   "execution_count": 5,
   "metadata": {},
   "outputs": [],
   "source": [
    "foods = aq.grab_foods(file)"
   ]
  },
  {
   "cell_type": "code",
   "execution_count": 6,
   "metadata": {},
   "outputs": [
    {
     "name": "stdout",
     "output_type": "stream",
     "text": [
      "2018-04-26_through_2018-05-26.csv\n",
      "2018-08-27_through_2018-09-26.csv\n",
      "2018-05-27_through_2018-06-26.csv\n",
      "2018-09-27_through_2018-10-27.csv\n",
      "2018-06-27_through_2018-07-27.csv\n",
      "2018-10-28_through-2018-11-27.csv\n",
      "2018-07-28_through_2018-08-26.csv\n",
      "2018-11-28_through_2018-12-28.csv\n"
     ]
    }
   ],
   "source": [
    "for i in csvs:\n",
    "    file = open('csvs/'+i).readlines()\n",
    "    for index, line in enumerate(file):\n",
    "        file[index] = line.replace('\\n','')\n",
    "        \n",
    "    print(i)\n",
    "    aq.grab_food_logs(file)"
   ]
  },
  {
   "cell_type": "code",
   "execution_count": null,
   "metadata": {},
   "outputs": [],
   "source": [
    "file = open(\"csvs/2018-05-27_through_2018-06-26.csv\").readlines()\n",
    "for index,line in enumerate(file):\n",
    "    file[index] = line.replace('\\n','')"
   ]
  },
  {
   "cell_type": "code",
   "execution_count": null,
   "metadata": {},
   "outputs": [],
   "source": [
    "foods = aq.grab_foods(file)"
   ]
  },
  {
   "cell_type": "code",
   "execution_count": null,
   "metadata": {},
   "outputs": [],
   "source": [
    "file2 = aq.remove_foods(file)"
   ]
  },
  {
   "cell_type": "code",
   "execution_count": null,
   "metadata": {},
   "outputs": [],
   "source": [
    "file3 = aq.remove_activities(file)"
   ]
  },
  {
   "cell_type": "code",
   "execution_count": null,
   "metadata": {},
   "outputs": [],
   "source": [
    "file3[0]"
   ]
  },
  {
   "cell_type": "code",
   "execution_count": null,
   "metadata": {},
   "outputs": [],
   "source": [
    "file3[1]"
   ]
  },
  {
   "cell_type": "code",
   "execution_count": null,
   "metadata": {},
   "outputs": [],
   "source": [
    "count = 0\n",
    "while True:\n",
    "    count +=1\n",
    "    print(file3.pop(0))\n",
    "    print('')\n",
    "    if file3[0] == '':\n",
    "        print(count)\n",
    "        break\n",
    "        "
   ]
  },
  {
   "cell_type": "code",
   "execution_count": null,
   "metadata": {},
   "outputs": [],
   "source": [
    "count = 0\n",
    "while True:\n",
    "    count +=1\n",
    "    print(file3.pop(0))\n",
    "    print('')\n",
    "    if file3[0] == '':\n",
    "        print(count)\n",
    "        break"
   ]
  },
  {
   "cell_type": "code",
   "execution_count": null,
   "metadata": {},
   "outputs": [],
   "source": [
    "file = file3.copy()"
   ]
  },
  {
   "cell_type": "code",
   "execution_count": null,
   "metadata": {},
   "outputs": [],
   "source": [
    "food_log = file.pop(0)\n",
    "if file.pop(0) != 'Daily Totals' : \n",
    "    while file.pop(0) != '\"Daily Totals\"':\n",
    "        print('popping')\n",
    "calories = file.pop(0)\n",
    "fat = file.pop(0)\n",
    "fiber = file.pop(0)\n",
    "carbs = file.pop(0)\n",
    "sodium = file.pop(0)\n",
    "protien = file.pop(0)\n",
    "water= file.pop(0)\n",
    "file.pop(0)"
   ]
  },
  {
   "cell_type": "code",
   "execution_count": null,
   "metadata": {},
   "outputs": [],
   "source": [
    "file3"
   ]
  },
  {
   "cell_type": "code",
   "execution_count": null,
   "metadata": {},
   "outputs": [],
   "source": [
    "x"
   ]
  },
  {
   "cell_type": "code",
   "execution_count": null,
   "metadata": {},
   "outputs": [],
   "source": []
  }
 ],
 "metadata": {
  "kernelspec": {
   "display_name": "Python 3",
   "language": "python",
   "name": "python3"
  },
  "language_info": {
   "codemirror_mode": {
    "name": "ipython",
    "version": 3
   },
   "file_extension": ".py",
   "mimetype": "text/x-python",
   "name": "python",
   "nbconvert_exporter": "python",
   "pygments_lexer": "ipython3",
   "version": "3.7.1"
  }
 },
 "nbformat": 4,
 "nbformat_minor": 2
}
