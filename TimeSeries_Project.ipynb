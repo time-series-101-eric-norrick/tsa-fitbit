{
 "cells": [
  {
   "cell_type": "markdown",
   "metadata": {},
   "source": [
    "# Fitbit Data Exploration: Making a prediction for the two weeks of missing data\n",
    "\n",
    "By: Norrick McGee and Eric Escalante  \n",
    "January 19, 2019  \n",
    "\n",
    "In this Jupyter Notebook, we will use the Time Series Methology and fitbit data collected from 04/26/2018 to 12/06/2018 to predict two weeks worth of missing data; we will add our pridicted data in a separate csv file."
   ]
  },
  {
   "cell_type": "markdown",
   "metadata": {},
   "source": [
    "## Imports\n",
    "**Import the necessary packages and their use cases for this project:**\n",
    "> **pandas:** data frames and data manipulation  \n",
    "> **numpy:** summary statistics  \n",
    "> **matplotlib:** used for visualizations  \n",
    "> **seasborn:** fancy visualizations  \n",
    "> **datetime:** turn the dates into datetime objects / get day of week  \n",
    "> **warning:** used to ignore python warnings"
   ]
  },
  {
   "cell_type": "code",
   "execution_count": 259,
   "metadata": {},
   "outputs": [],
   "source": [
    "from acquire import acquire_fitbit\n",
    "\n",
    "import numpy as np\n",
    "import pandas as pd\n",
    "\n",
    "import os\n",
    "from datetime import datetime\n",
    "import itertools\n",
    " \n",
    "import matplotlib\n",
    "import matplotlib.pyplot as plt\n",
    "import seaborn as sns\n",
    "import statsmodels.api as sm\n",
    "\n",
    "%matplotlib inline\n",
    "\n",
    "import warnings\n",
    "warnings.filterwarnings(\"ignore\")"
   ]
  },
  {
   "cell_type": "markdown",
   "metadata": {},
   "source": [
    "## Table of contents\n",
    "1. [Project Planning](#project-planning)\n",
    "1. [Acquisition](#acquisition)\n",
    "1. [Preparation](#preparation)\n",
    "1. [Exploration](#exploration)\n",
    "1. [Modeling](#modeling)"
   ]
  },
  {
   "cell_type": "markdown",
   "metadata": {},
   "source": [
    "## Project Planning <a name=\"project-planning\"></a>"
   ]
  },
  {
   "cell_type": "markdown",
   "metadata": {},
   "source": [
    "### Goals  \n",
    "> Goals for the Project are:  \n",
    "1. We will predict using different Time Series Methodologies the missing two weeks of Fitbit data\n",
    "2. We will show the reasoning behind our preditions with visualizations and statistical findings\n",
    "3. Finally we will create a viewable csv file with those pridictions so that you could see the endire dataset"
   ]
  },
  {
   "cell_type": "markdown",
   "metadata": {},
   "source": [
    "### Deliverables"
   ]
  },
  {
   "cell_type": "markdown",
   "metadata": {},
   "source": [
    "**_TODO:_**\n",
    "> Summarization of the data:"
   ]
  },
  {
   "cell_type": "markdown",
   "metadata": {},
   "source": [
    "### Data Dictionary & Domain Knowledge"
   ]
  },
  {
   "cell_type": "markdown",
   "metadata": {},
   "source": [
    "So we have sixteen columns in our dataset. Let us understand what each one is.\n",
    "\n",
    "> **activity_calories:** amount of calories burned throughout the day   \n",
    "> **calories:** amount of calories consumed throughout the day  \n",
    "> **carbs:** amount of carbs consumed throughout the day  \n",
    "> **distance:** distance traveled  \n",
    "> **fat:** amount of fat consumed throughout the day  \n",
    "> **fiber:** amount of fiber comsumed throughout the day  \n",
    "> **floors:** floors climbed  \n",
    "> **mins_active_high:** minutes of high activity in the day   \n",
    "> **mins_active_light:** minutes of light activity in the day  \n",
    "> **mins_active_med:** minutes of moderate activity in the day  \n",
    "> **mins_sedentary:** minutes the fit bit assums you are sitting down  \n",
    "> **protien:** amount of protein consumed throughout the day  \n",
    "> **sodium:** amount of sodium consumed throughout the day  \n",
    "> **steps:** total amount of steps taken in a day  \n",
    "> **total_calories:** total calories consumed throughout the day  \n",
    "> **water:** metric desplays tracked water intake or set a consumption"
   ]
  },
  {
   "cell_type": "markdown",
   "metadata": {},
   "source": [
    "### Hypotheses"
   ]
  },
  {
   "cell_type": "markdown",
   "metadata": {},
   "source": [
    "**_TODO:_**  \n",
    "> Hypotheses:"
   ]
  },
  {
   "cell_type": "markdown",
   "metadata": {},
   "source": [
    "### Thoughts & Questions"
   ]
  },
  {
   "cell_type": "markdown",
   "metadata": {},
   "source": [
    "**_TODO:_**\n",
    "> Thoughts:  \n",
    "> Questions:"
   ]
  },
  {
   "cell_type": "markdown",
   "metadata": {},
   "source": [
    "## Prepare the Environment"
   ]
  },
  {
   "cell_type": "markdown",
   "metadata": {},
   "source": [
    "## Preparation <a name=\"preparation\"></a>"
   ]
  },
  {
   "cell_type": "code",
   "execution_count": 202,
   "metadata": {},
   "outputs": [],
   "source": [
    "df = pd.concat(acquire_fitbit())\n",
    "df = df.convert_objects(convert_numeric=True, convert_dates=True)\n",
    "df.index = pd.to_datetime(df.index, utc=True)"
   ]
  },
  {
   "cell_type": "code",
   "execution_count": 206,
   "metadata": {},
   "outputs": [],
   "source": [
    "def add_date_parts(df):\n",
    "    '''\n",
    "    Function to add columns based on date: year, quarter, month, day of month, day of week\n",
    "    '''\n",
    "    df['year'] = df.index.year\n",
    "    df['quarter'] = df.index.quarter\n",
    "    df['month'] = df.index.month\n",
    "    df['day'] = df.index.day\n",
    "    df['weekday'] = df.index.day_name()\n",
    "    \n",
    "    return df\n",
    "\n",
    "def nulls_by_col(df):\n",
    "    '''\n",
    "    Funciton used to find missing information in each column\n",
    "    '''\n",
    "    num_missing = df.isnull().sum()\n",
    "    rows = df.shape[0]\n",
    "    pct_missing = num_missing/rows\n",
    "    cols_missing = pd.DataFrame({'num_rows_missing': num_missing, 'pct_rows_missing': pct_missing})\n",
    "    \n",
    "    return cols_missing\n",
    "\n",
    "def nulls_by_row(df):\n",
    "    '''\n",
    "    Function used to find missing information in each row\n",
    "    '''\n",
    "    num_cols_missing = df.isnull().sum(axis=1)\n",
    "    pct_cols_missing = df.isnull().sum(axis=1)/df.shape[1]*100\n",
    "    rows_missing = pd.DataFrame({'num_cols_missing': num_cols_missing, 'pct_cols_missing': pct_cols_missing})\\\n",
    "                     .reset_index().groupby(['num_cols_missing','pct_cols_missing']).count()\\\n",
    "                     .rename(index=str, columns={'index': 'num_rows'}).reset_index()\n",
    "    \n",
    "    return rows_missing\n",
    "\n",
    "def df_summary(df):\n",
    "    '''\n",
    "    Funciton summarizes our created data frame with information on: shape, type & null info, desribe function from pandas library, null values by column, null values by row, and value counts\n",
    "    '''\n",
    "    print('--- Shape: {}'.format(df.shape))\n",
    "    print('--- Info')\n",
    "    df.info()\n",
    "    print('--- Descriptions')\n",
    "    print(df.describe(include='all'))\n",
    "    print('--- Nulls By Column')\n",
    "    print(nulls_by_col(df))\n",
    "    print('--- Nulls By Row')\n",
    "    print(nulls_by_row(df))"
   ]
  },
  {
   "cell_type": "code",
   "execution_count": 204,
   "metadata": {},
   "outputs": [],
   "source": [
    "df = add_date_parts(df)"
   ]
  },
  {
   "cell_type": "code",
   "execution_count": 205,
   "metadata": {},
   "outputs": [
    {
     "name": "stdout",
     "output_type": "stream",
     "text": [
      "--- Shape: (711, 21)\n",
      "--- Info\n",
      "<class 'pandas.core.frame.DataFrame'>\n",
      "DatetimeIndex: 711 entries, 2018-04-26 to 2018-12-28\n",
      "Data columns (total 21 columns):\n",
      "activity_calories    50 non-null float64\n",
      "calories             474 non-null float64\n",
      "carbs                239 non-null object\n",
      "distance             225 non-null float64\n",
      "fat                  239 non-null object\n",
      "fiber                239 non-null object\n",
      "floors               225 non-null float64\n",
      "mins_active_high     225 non-null float64\n",
      "mins_active_light    225 non-null float64\n",
      "mins_active_med      225 non-null float64\n",
      "mins_sedentary       188 non-null float64\n",
      "protien              239 non-null object\n",
      "sodium               239 non-null object\n",
      "steps                20 non-null float64\n",
      "total_calories       1 non-null float64\n",
      "water                239 non-null object\n",
      "year                 711 non-null int64\n",
      "quarter              711 non-null int64\n",
      "month                711 non-null int64\n",
      "day                  711 non-null int64\n",
      "weekday              711 non-null object\n",
      "dtypes: float64(10), int64(4), object(7)\n",
      "memory usage: 122.2+ KB\n",
      "--- Descriptions\n",
      "        activity_calories    calories carbs    distance  fat fiber  \\\n",
      "count           50.000000  474.000000   239  225.000000  239   239   \n",
      "unique                NaN         NaN     9         NaN    9     7   \n",
      "top                   NaN         NaN   0 g         NaN  0 g   0 g   \n",
      "freq                  NaN         NaN   231         NaN  231   231   \n",
      "mean           480.480000    5.936709   NaN    4.046800  NaN   NaN   \n",
      "std            382.676943   65.119700   NaN    2.506253  NaN   NaN   \n",
      "min              0.000000    0.000000   NaN    0.000000  NaN   NaN   \n",
      "25%             39.750000    0.000000   NaN    2.220000  NaN   NaN   \n",
      "50%            523.000000    0.000000   NaN    3.680000  NaN   NaN   \n",
      "75%            827.250000    0.000000   NaN    5.900000  NaN   NaN   \n",
      "max            999.000000  807.000000   NaN   12.000000  NaN   NaN   \n",
      "\n",
      "            floors  mins_active_high  mins_active_light  mins_active_med  \\\n",
      "count   225.000000        225.000000         225.000000       225.000000   \n",
      "unique         NaN               NaN                NaN              NaN   \n",
      "top            NaN               NaN                NaN              NaN   \n",
      "freq           NaN               NaN                NaN              NaN   \n",
      "mean     12.591111         33.871111         188.235556        14.920000   \n",
      "std      25.844174         37.195986          75.170001        15.363535   \n",
      "min       0.000000          0.000000           0.000000         0.000000   \n",
      "25%       2.000000          2.000000         158.000000         3.000000   \n",
      "50%       7.000000         15.000000         203.000000        11.000000   \n",
      "75%      13.000000         63.000000         236.000000        21.000000   \n",
      "max     195.000000        154.000000         349.000000        78.000000   \n",
      "\n",
      "         ...     protien sodium       steps  total_calories    water    year  \\\n",
      "count    ...         239    239   20.000000             1.0      239   711.0   \n",
      "unique   ...           9      9         NaN             NaN        1     NaN   \n",
      "top      ...         0 g   0 mg         NaN             NaN  0 fl oz     NaN   \n",
      "freq     ...         231    231         NaN             NaN      239     NaN   \n",
      "mean     ...         NaN    NaN  175.700000           799.0      NaN  2018.0   \n",
      "std      ...         NaN    NaN  324.843784             NaN      NaN     0.0   \n",
      "min      ...         NaN    NaN    0.000000           799.0      NaN  2018.0   \n",
      "25%      ...         NaN    NaN    0.000000           799.0      NaN  2018.0   \n",
      "50%      ...         NaN    NaN    0.000000           799.0      NaN  2018.0   \n",
      "75%      ...         NaN    NaN  180.750000           799.0      NaN  2018.0   \n",
      "max      ...         NaN    NaN  952.000000           799.0      NaN  2018.0   \n",
      "\n",
      "           quarter       month         day  weekday  \n",
      "count   711.000000  711.000000  711.000000      711  \n",
      "unique         NaN         NaN         NaN        7  \n",
      "top            NaN         NaN         NaN   Friday  \n",
      "freq           NaN         NaN         NaN      104  \n",
      "mean      3.067511    8.261603   15.713080      NaN  \n",
      "std       0.782520    2.283234    8.873562      NaN  \n",
      "min       2.000000    4.000000    1.000000      NaN  \n",
      "25%       2.000000    6.000000    8.000000      NaN  \n",
      "50%       3.000000    8.000000   16.000000      NaN  \n",
      "75%       4.000000   10.000000   23.000000      NaN  \n",
      "max       4.000000   12.000000   31.000000      NaN  \n",
      "\n",
      "[11 rows x 21 columns]\n",
      "--- Nulls By Column\n",
      "                   num_rows_missing  pct_rows_missing\n",
      "activity_calories               661          0.929677\n",
      "calories                        237          0.333333\n",
      "carbs                           472          0.663854\n",
      "distance                        486          0.683544\n",
      "fat                             472          0.663854\n",
      "fiber                           472          0.663854\n",
      "floors                          486          0.683544\n",
      "mins_active_high                486          0.683544\n",
      "mins_active_light               486          0.683544\n",
      "mins_active_med                 486          0.683544\n",
      "mins_sedentary                  523          0.735584\n",
      "protien                         472          0.663854\n",
      "sodium                          472          0.663854\n",
      "steps                           691          0.971871\n",
      "total_calories                  710          0.998594\n",
      "water                           472          0.663854\n",
      "year                              0          0.000000\n",
      "quarter                           0          0.000000\n",
      "month                             0          0.000000\n",
      "day                               0          0.000000\n",
      "weekday                           0          0.000000\n",
      "--- Nulls By Row\n",
      "  num_cols_missing    pct_cols_missing  num_rows\n",
      "0                7   33.33333333333333         1\n",
      "1                8  38.095238095238095         4\n",
      "2                9  42.857142857142854       273\n",
      "3               10   47.61904761904761       169\n",
      "4               11   52.38095238095239        17\n",
      "5               15   71.42857142857143       241\n",
      "6               16   76.19047619047619         6\n"
     ]
    }
   ],
   "source": [
    "df_summary(df)"
   ]
  },
  {
   "cell_type": "markdown",
   "metadata": {},
   "source": [
    "### Handle Missing Values"
   ]
  },
  {
   "cell_type": "markdown",
   "metadata": {},
   "source": [
    "\n",
    ">- We do want to look where are current numbers land to see how we want to structure our null values\n",
    ">- Option could be just to add a zero there; reasoning could because the person forgot to log his info\n",
    ">- Could use the average because if these guys are so busy that they do not have time for side conversations they may just eat/do the same thing each day  \n",
    ">- There are non-type or int + str types that we need to work on what to do in this case"
   ]
  },
  {
   "cell_type": "code",
   "execution_count": 149,
   "metadata": {},
   "outputs": [
    {
     "name": "stdout",
     "output_type": "stream",
     "text": [
      "\n",
      "- activity_calories -\n",
      "(749.25, 999.0]    19\n",
      "(-1.0, 249.75]     17\n",
      "(499.5, 749.25]     7\n",
      "(249.75, 499.5]     7\n",
      "Name: activity_calories, dtype: int64\n",
      "\n",
      "- calories -\n",
      "(-0.808, 201.75]    470\n",
      "(605.25, 807.0]       2\n",
      "(403.5, 605.25]       2\n",
      "(201.75, 403.5]       0\n",
      "Name: calories, dtype: int64\n",
      "\n",
      "- distance -\n",
      "(3.0, 6.0]                      88\n",
      "(-0.013000000000000001, 3.0]    83\n",
      "(6.0, 9.0]                      48\n",
      "(9.0, 12.0]                      6\n",
      "Name: distance, dtype: int64\n",
      "\n",
      "- floors -\n",
      "(-0.196, 48.75]    216\n",
      "(97.5, 146.25]       4\n",
      "(146.25, 195.0]      3\n",
      "(48.75, 97.5]        2\n",
      "Name: floors, dtype: int64\n",
      "\n",
      "- mins_active_high -\n",
      "(-0.155, 38.5]    142\n",
      "(38.5, 77.0]       43\n",
      "(77.0, 115.5]      36\n",
      "(115.5, 154.0]      4\n",
      "Name: mins_active_high, dtype: int64\n",
      "\n",
      "- mins_active_light -\n",
      "(174.5, 261.75]    121\n",
      "(87.25, 174.5]      53\n",
      "(261.75, 349.0]     27\n",
      "(-0.35, 87.25]      24\n",
      "Name: mins_active_light, dtype: int64\n",
      "\n",
      "- mins_active_med -\n",
      "(-0.079, 19.5]    161\n",
      "(19.5, 39.0]       45\n",
      "(39.0, 58.5]       15\n",
      "(58.5, 78.0]        4\n",
      "Name: mins_active_med, dtype: int64\n",
      "\n",
      "- mins_sedentary -\n",
      "(511.0, 752.5]                 104\n",
      "(752.5, 994.0]                  75\n",
      "(269.5, 511.0]                   8\n",
      "(27.032999999999998, 269.5]      1\n",
      "Name: mins_sedentary, dtype: int64\n",
      "\n",
      "- steps -\n",
      "(-0.953, 238.0]    16\n",
      "(714.0, 952.0]      3\n",
      "(238.0, 476.0]      1\n",
      "(476.0, 714.0]      0\n",
      "Name: steps, dtype: int64\n",
      "\n",
      "- total_calories -\n",
      "(798.6, 799.0]      1\n",
      "(799.4, 799.799]    0\n",
      "(799.0, 799.4]      0\n",
      "(798.2, 798.6]      0\n",
      "Name: total_calories, dtype: int64\n"
     ]
    }
   ],
   "source": [
    "for col in df.select_dtypes('number'):\n",
    "    print(f'\\n- {col} -')\n",
    "    print(df[col].value_counts(bins=4))"
   ]
  },
  {
   "cell_type": "markdown",
   "metadata": {},
   "source": [
    "### Handle Duplicates"
   ]
  },
  {
   "cell_type": "markdown",
   "metadata": {},
   "source": [
    "**_TODO:_**\n",
    "> Do we have duplicated data"
   ]
  },
  {
   "cell_type": "markdown",
   "metadata": {},
   "source": [
    "### Handle Outliers"
   ]
  },
  {
   "cell_type": "markdown",
   "metadata": {},
   "source": [
    "**_TODO:_**\n",
    "> Personally do not want to remove outliers here"
   ]
  },
  {
   "cell_type": "markdown",
   "metadata": {},
   "source": [
    "### Re-Check Missing Values & Summary"
   ]
  },
  {
   "cell_type": "code",
   "execution_count": 109,
   "metadata": {},
   "outputs": [
    {
     "name": "stdout",
     "output_type": "stream",
     "text": [
      "--- Shape: (711, 16)\n",
      "--- Info\n",
      "<class 'pandas.core.frame.DataFrame'>\n",
      "Index: 711 entries, 2018-04-26 to 20181228\n",
      "Data columns (total 16 columns):\n",
      "activity_calories    50 non-null float64\n",
      "calories             474 non-null float64\n",
      "carbs                239 non-null object\n",
      "distance             225 non-null float64\n",
      "fat                  239 non-null object\n",
      "fiber                239 non-null object\n",
      "floors               225 non-null float64\n",
      "mins_active_high     225 non-null float64\n",
      "mins_active_light    225 non-null float64\n",
      "mins_active_med      225 non-null float64\n",
      "mins_sedentary       188 non-null float64\n",
      "protien              239 non-null object\n",
      "sodium               239 non-null object\n",
      "steps                20 non-null float64\n",
      "total_calories       1 non-null float64\n",
      "water                239 non-null object\n",
      "dtypes: float64(10), object(6)\n",
      "memory usage: 114.4+ KB\n",
      "--- Descriptions\n",
      "        activity_calories    calories carbs    distance  fat fiber  \\\n",
      "count           50.000000  474.000000   239  225.000000  239   239   \n",
      "unique                NaN         NaN     9         NaN    9     7   \n",
      "top                   NaN         NaN   0 g         NaN  0 g   0 g   \n",
      "freq                  NaN         NaN   231         NaN  231   231   \n",
      "mean           480.480000    5.936709   NaN    4.046800  NaN   NaN   \n",
      "std            382.676943   65.119700   NaN    2.506253  NaN   NaN   \n",
      "min              0.000000    0.000000   NaN    0.000000  NaN   NaN   \n",
      "25%             39.750000    0.000000   NaN    2.220000  NaN   NaN   \n",
      "50%            523.000000    0.000000   NaN    3.680000  NaN   NaN   \n",
      "75%            827.250000    0.000000   NaN    5.900000  NaN   NaN   \n",
      "max            999.000000  807.000000   NaN   12.000000  NaN   NaN   \n",
      "\n",
      "            floors  mins_active_high  mins_active_light  mins_active_med  \\\n",
      "count   225.000000        225.000000         225.000000       225.000000   \n",
      "unique         NaN               NaN                NaN              NaN   \n",
      "top            NaN               NaN                NaN              NaN   \n",
      "freq           NaN               NaN                NaN              NaN   \n",
      "mean     12.591111         33.871111         188.235556        14.920000   \n",
      "std      25.844174         37.195986          75.170001        15.363535   \n",
      "min       0.000000          0.000000           0.000000         0.000000   \n",
      "25%       2.000000          2.000000         158.000000         3.000000   \n",
      "50%       7.000000         15.000000         203.000000        11.000000   \n",
      "75%      13.000000         63.000000         236.000000        21.000000   \n",
      "max     195.000000        154.000000         349.000000        78.000000   \n",
      "\n",
      "        mins_sedentary protien sodium       steps  total_calories    water  \n",
      "count       188.000000     239    239   20.000000             1.0      239  \n",
      "unique             NaN       9      9         NaN             NaN        1  \n",
      "top                NaN     0 g   0 mg         NaN             NaN  0 fl oz  \n",
      "freq               NaN     231    231         NaN             NaN      239  \n",
      "mean        719.579787     NaN    NaN  175.700000           799.0      NaN  \n",
      "std         130.136288     NaN    NaN  324.843784             NaN      NaN  \n",
      "min          28.000000     NaN    NaN    0.000000           799.0      NaN  \n",
      "25%         645.500000     NaN    NaN    0.000000           799.0      NaN  \n",
      "50%         717.000000     NaN    NaN    0.000000           799.0      NaN  \n",
      "75%         805.500000     NaN    NaN  180.750000           799.0      NaN  \n",
      "max         994.000000     NaN    NaN  952.000000           799.0      NaN  \n",
      "--- Nulls By Column\n",
      "                   num_rows_missing  pct_rows_missing\n",
      "activity_calories               661          0.929677\n",
      "calories                        237          0.333333\n",
      "carbs                           472          0.663854\n",
      "distance                        486          0.683544\n",
      "fat                             472          0.663854\n",
      "fiber                           472          0.663854\n",
      "floors                          486          0.683544\n",
      "mins_active_high                486          0.683544\n",
      "mins_active_light               486          0.683544\n",
      "mins_active_med                 486          0.683544\n",
      "mins_sedentary                  523          0.735584\n",
      "protien                         472          0.663854\n",
      "sodium                          472          0.663854\n",
      "steps                           691          0.971871\n",
      "total_calories                  710          0.998594\n",
      "water                           472          0.663854\n",
      "--- Nulls By Row\n",
      "  num_cols_missing pct_cols_missing  num_rows\n",
      "0                7            43.75         1\n",
      "1                8             50.0         4\n",
      "2                9            56.25       273\n",
      "3               10             62.5       169\n",
      "4               11            68.75        17\n",
      "5               15            93.75       241\n",
      "6               16            100.0         6\n"
     ]
    }
   ],
   "source": [
    "df_summary(df)"
   ]
  },
  {
   "cell_type": "markdown",
   "metadata": {},
   "source": [
    "## Exploration  <a name=\"exploration\"></a>"
   ]
  },
  {
   "cell_type": "code",
   "execution_count": 335,
   "metadata": {},
   "outputs": [],
   "source": [
    "def createheatmap(df):\n",
    "    '''\n",
    "    Function we will use to create heatmaps with pretty specific parameters that keep these heatmaps uniform\n",
    "    '''\n",
    "    sns.set(style = \"white\")\n",
    "    corrd = df.corr()\n",
    "    mask = np.zeros_like(corrd, dtype=np.bool) ### returns an array of zerros for NA's to fill each column ensures each column is the same shape\n",
    "    mask[np.triu_indices_from(mask)] = True    ### returns the indices for the upper-triangle of an (n, m) array.\n",
    "    f, ax = plt.subplots(figsize=(15, 9))\n",
    "    cmap = sns.diverging_palette(220, 10, as_cmap=True)\n",
    "    sns.heatmap(corrd, mask=mask, cmap=cmap, square=True, \n",
    "                xticklabels=True, yticklabels=True, \n",
    "                linewidths=.5, ax=ax)\n",
    "\n",
    "def bin_feature(df, col, newcol, bin_cuts=[]):\n",
    "    '''\n",
    "    Function we will use to bin different columns during our exploration -> returns the dataframe with the column binned \n",
    "    '''\n",
    "    labs = list(range(len(bin_cuts)))[1:]\n",
    "    df[newcol] = pd.cut(df[col], bin_cuts, labels=labs, include_lowest=False)\n",
    "    \n",
    "    return df\n",
    "\n",
    "def summary_stat(df, col_name):\n",
    "    '''\n",
    "    Function to provide median, min, and max of data in column -> returns a new small dataframe with the info\n",
    "    '''\n",
    "    df = pd.DataFrame({'Mean ' : str(round(np.mean(df[col_name]),2)),\n",
    "         'Median' : str(np.median(df[col_name])),\n",
    "         'Min' : str(np.min(df[col_name])),\n",
    "         'Max' : str(np.max(df[col_name]))}, index=[0])\n",
    "    \n",
    "    return df"
   ]
  },
  {
   "cell_type": "code",
   "execution_count": 332,
   "metadata": {},
   "outputs": [
    {
     "data": {
      "text/plain": [
       "Text(0.5, 0, 'Month')"
      ]
     },
     "execution_count": 332,
     "metadata": {},
     "output_type": "execute_result"
    },
    {
     "data": {
      "image/png": "[encoded data removed]",
      "text/plain": [
       "<Figure size 1080x648 with 1 Axes>"
      ]
     },
     "metadata": {},
     "output_type": "display_data"
    }
   ],
   "source": [
    "df.boxplot(column = 'distance', by = 'month', figsize=(15,9))\n",
    "\n",
    "plt.xticks(fontsize=10)  \n",
    "plt.yticks(fontsize=14)\n",
    "\n",
    "plt.title('')\n",
    "plt.suptitle('Monthly Distance Boxplot')\n",
    "plt.ylabel('Distance')\n",
    "plt.xlabel('Month')"
   ]
  },
  {
   "cell_type": "markdown",
   "metadata": {},
   "source": [
    "**_TODO:_**\n",
    "> Need to write a detailed breakdown of what the data shows us here"
   ]
  },
  {
   "cell_type": "code",
   "execution_count": 329,
   "metadata": {},
   "outputs": [
    {
     "data": {
      "text/plain": [
       "Text(0, 0.5, 'Distance')"
      ]
     },
     "execution_count": 329,
     "metadata": {},
     "output_type": "execute_result"
    },
    {
     "data": {
      "image/png": "[encoded data removed]",
      "text/plain": [
       "<Figure size 1080x648 with 1 Axes>"
      ]
     },
     "metadata": {},
     "output_type": "display_data"
    }
   ],
   "source": [
    "fig = plt.figure(figsize = (15,9))\n",
    "\n",
    "ax = fig.add_subplot(111)\n",
    "DOWdf = df.groupby(by='weekday').mean()\n",
    "meanDOW = DOWdf['distance']\n",
    "meanDOW.plot(linestyle='-', marker='o', markersize=10)\n",
    "\n",
    "ax.get_xaxis().tick_bottom()  \n",
    "ax.get_yaxis().tick_left()\n",
    "\n",
    "plt.xticks(fontsize=10)  \n",
    "plt.yticks(fontsize=14)  \n",
    "\n",
    "plt.title('Distance Walked vs. Day of the Week', fontsize=15)\n",
    "plt.xlabel('Weekday', fontsize=14)\n",
    "plt.xlabel('Day of the Week')\n",
    "plt.xlabel(meanDOW.index.name, fontsize=14)\n",
    "plt.ylabel('Distance', fontsize=14)"
   ]
  },
  {
   "cell_type": "markdown",
   "metadata": {},
   "source": [
    "**_TODO:_**\n",
    "> Need to write a detailed breakdown of what the data shows us here  \n",
    "> Need to update code to show what day of the week each tickmark represents"
   ]
  },
  {
   "cell_type": "code",
   "execution_count": 320,
   "metadata": {},
   "outputs": [
    {
     "data": {
      "image/png": "[encoded data removed]",
      "text/plain": [
       "<Figure size 1080x648 with 2 Axes>"
      ]
     },
     "metadata": {},
     "output_type": "display_data"
    }
   ],
   "source": [
    "createheatmap(df.drop(columns=['total_calories', 'year']))"
   ]
  },
  {
   "cell_type": "markdown",
   "metadata": {},
   "source": [
    "**_TODO:_**\n",
    "> Need to figure out different correlations here speak to them...  \n",
    "> Currently - Total year has too many missing values & year only has the one  \n",
    "> Which variables are we going to start binning?  \n",
    "> Which statistical models are we going to start preparing for?"
   ]
  },
  {
   "cell_type": "markdown",
   "metadata": {},
   "source": [
    "**_TODO: Workday hours, Non workday hours, Weekend hours_**\n",
    "> Create two seperate df for each test\n",
    "> New df's will include:\n",
    ">> 1. Days of the week\n",
    ">> 2. Hours from 9 to 5\n",
    ">> As type int"
   ]
  },
  {
   "cell_type": "markdown",
   "metadata": {},
   "source": [
    "### Train-Test Split"
   ]
  },
  {
   "cell_type": "markdown",
   "metadata": {},
   "source": [
    "**_TODO:_**\n",
    "> Going to be a little bit different here because we have multiple independent variables"
   ]
  },
  {
   "cell_type": "markdown",
   "metadata": {},
   "source": [
    "### Visualizations"
   ]
  },
  {
   "cell_type": "markdown",
   "metadata": {},
   "source": [
    "**_TODO:_**\n",
    "> **TIME TO SHINE!**"
   ]
  },
  {
   "cell_type": "markdown",
   "metadata": {},
   "source": [
    "### Statistical Tests"
   ]
  },
  {
   "cell_type": "code",
   "execution_count": 112,
   "metadata": {},
   "outputs": [],
   "source": [
    "def calculate_r2(Actual_Y, Estimated_Y):\n",
    "    '''\n",
    "    Function that calculates R squared\n",
    "    '''\n",
    "    return float(1 - sum((Actual_Y-Estimated_Y)**2 ) / sum((Actual_Y-Actual_Y.mean(axis=0))**2))\n",
    "\n",
    "def calculate_rmse(Actual_Y, Estimated_Y):\n",
    "    '''\n",
    "    Function that calculates Root Mean Squared Error\n",
    "    '''\n",
    "    return(math.sqrt(sum((Actual_Y-Estimated_Y )**2 ) / Actual_Y.shape[0]))"
   ]
  },
  {
   "cell_type": "markdown",
   "metadata": {},
   "source": [
    "### Summarize Conclusions"
   ]
  },
  {
   "cell_type": "markdown",
   "metadata": {},
   "source": [
    "**_TODO:_**\n",
    "> Summarize our statistical findings"
   ]
  },
  {
   "cell_type": "markdown",
   "metadata": {},
   "source": [
    "## Modeling <a name=\"modeling\"></a>"
   ]
  },
  {
   "cell_type": "markdown",
   "metadata": {},
   "source": [
    "### Feature Engineering & Selection"
   ]
  },
  {
   "cell_type": "code",
   "execution_count": 8,
   "metadata": {},
   "outputs": [],
   "source": [
    "def new_features(df):\n",
    "    '''\n",
    "    Function used to create new features -> returns the original dataframe with new features added\n",
    "    '''\n",
    "    return df"
   ]
  },
  {
   "cell_type": "markdown",
   "metadata": {},
   "source": [
    "### Train & Test Models"
   ]
  },
  {
   "cell_type": "markdown",
   "metadata": {},
   "source": [
    "**_TODO:_**\n",
    "> Build some models here:\n",
    "1. Would like to build a few functions here so that we could do differnt ML methods\n",
    "2. What is going to be our goal??\n",
    "3. I think we need to separate the data into different slices (i.e. use Sunday thru Friday to predict Saturday; Monday thru Saturday to predict Sunday... and so on)"
   ]
  },
  {
   "cell_type": "markdown",
   "metadata": {},
   "source": [
    "### Summarize Conclusions"
   ]
  },
  {
   "cell_type": "markdown",
   "metadata": {},
   "source": [
    "**_TODO:_**\n",
    "> Sumarize our training and test builds  \n",
    "> Create the CSV  \n",
    "> Find differnt ways to improve  "
   ]
  },
  {
   "cell_type": "code",
   "execution_count": null,
   "metadata": {},
   "outputs": [],
   "source": []
  }
 ],
 "metadata": {
  "kernelspec": {
   "display_name": "Python 3",
   "language": "python",
   "name": "python3"
  },
  "language_info": {
   "codemirror_mode": {
    "name": "ipython",
    "version": 3
   },
   "file_extension": ".py",
   "mimetype": "text/x-python",
   "name": "python",
   "nbconvert_exporter": "python",
   "pygments_lexer": "ipython3",
   "version": "3.7.1"
  }
 },
 "nbformat": 4,
 "nbformat_minor": 2
}
