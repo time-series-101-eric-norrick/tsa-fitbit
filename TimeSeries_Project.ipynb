{
 "cells": [
  {
   "cell_type": "markdown",
   "metadata": {},
   "source": [
    "# Fitbit Data Exploration: Making a prediction for the two weeks of missing data\n",
    "\n",
    "By: Norrick McGee and Eric Escalante  \n",
    "January 19, 2019  \n",
    "\n",
    "In this Jupyter Notebook, we will use the Time Series Methology and fitbit data collected from 04/26/2018 to 12/06/2018 to predict two weeks worth of missing data; we will add our pridicted data in a separate csv file."
   ]
  },
  {
   "cell_type": "markdown",
   "metadata": {},
   "source": [
    "## Imports\n",
    "**Import the necessary packages and their use cases for this project:**\n",
    "> **pandas:** data frames and data manipulation  \n",
    "> **numpy:** summary statistics  \n",
    "> **matplotlib:** used for visualizations  \n",
    "> **seasborn:** fancy visualizations  \n",
    "> **datetime:** turn the dates into datetime objects / get day of week  \n",
    "> **warning:** used to ignore python warnings  \n",
    "> **statsmodels:** library of different statistical tests we will be performing thoughout the project"
   ]
  },
  {
   "cell_type": "code",
   "execution_count": 20,
   "metadata": {},
   "outputs": [],
   "source": [
    "from acquire import acquire_fitbit\n",
    "\n",
    "import numpy as np\n",
    "import pandas as pd\n",
    "\n",
    "import os\n",
    "from datetime import datetime\n",
    "import itertools\n",
    " \n",
    "import matplotlib\n",
    "import matplotlib.pyplot as plt\n",
    "import seaborn as sns\n",
    "import statsmodels.api as sm\n",
    "\n",
    "%matplotlib inline\n",
    "\n",
    "import warnings\n",
    "warnings.filterwarnings(\"ignore\")\n",
    "\n",
    "from fbprophet import Prophet"
   ]
  },
  {
   "cell_type": "markdown",
   "metadata": {},
   "source": [
    "## Table of contents\n",
    "1. [Project Planning](#project-planning)\n",
    "1. [Acquisition](#acquisition)\n",
    "1. [Preparation](#preparation)\n",
    "1. [Exploration](#exploration)\n",
    "1. [Modeling](#modeling)"
   ]
  },
  {
   "cell_type": "markdown",
   "metadata": {},
   "source": [
    "## Project Planning <a name=\"project-planning\"></a>"
   ]
  },
  {
   "cell_type": "markdown",
   "metadata": {},
   "source": [
    "### Goals  \n",
    "> Goals for the Project are:  \n",
    "1. We will predict using different Time Series Methodologies the missing two weeks of Fitbit data\n",
    "2. We will show the reasoning behind our preditions with visualizations and statistical findings\n",
    "3. Finally we will create a viewable csv file with those pridictions so that you could see the endire dataset"
   ]
  },
  {
   "cell_type": "markdown",
   "metadata": {},
   "source": [
    "### Deliverables"
   ]
  },
  {
   "cell_type": "markdown",
   "metadata": {},
   "source": [
    "**_TODO:_**\n",
    "> Summarization of the data:"
   ]
  },
  {
   "cell_type": "markdown",
   "metadata": {},
   "source": [
    "### Data Dictionary & Domain Knowledge"
   ]
  },
  {
   "cell_type": "markdown",
   "metadata": {},
   "source": [
    "So we have sixteen columns in our dataset. Let us understand what each one is. We will be adding more throughout the project.\n",
    "\n",
    "> **activity_calories:** amount of calories burned throughout the day   \n",
    "> **calories:** amount of calories consumed throughout the day  \n",
    "> **carbs:** amount of carbs consumed throughout the day  \n",
    "> **distance:** distance traveled  \n",
    "> **fat:** amount of fat consumed throughout the day  \n",
    "> **fiber:** amount of fiber comsumed throughout the day  \n",
    "> **floors:** floors climbed  \n",
    "> **mins_active_high:** minutes of high activity in the day   \n",
    "> **mins_active_light:** minutes of light activity in the day  \n",
    "> **mins_active_med:** minutes of moderate activity in the day  \n",
    "> **mins_sedentary:** minutes the fit bit assums you are sitting down  \n",
    "> **protien:** amount of protein consumed throughout the day  \n",
    "> **sodium:** amount of sodium consumed throughout the day  \n",
    "> **steps:** total amount of steps taken in a day  \n",
    "> **total_calories:** total calories consumed throughout the day  \n",
    "> **water:** metric desplays tracked water intake or set a consumption"
   ]
  },
  {
   "cell_type": "markdown",
   "metadata": {},
   "source": [
    "### Hypotheses"
   ]
  },
  {
   "cell_type": "markdown",
   "metadata": {},
   "source": [
    "**_TODO:_**  \n",
    "> Hypotheses:"
   ]
  },
  {
   "cell_type": "markdown",
   "metadata": {},
   "source": [
    "### Thoughts & Questions"
   ]
  },
  {
   "cell_type": "markdown",
   "metadata": {},
   "source": [
    "> Thoughts:  \n",
    "1. We should only use our test data once\n",
    "2. Make sure we are resampling the data if we wanted to to differents training models within our original train data\n",
    "3. Distance has more data: maybe we use distance to equate the amount of steps\n",
    ">>1 miles to steps = 2112 steps  \n",
    "2 miles to steps = 4224 steps  \n",
    "3 miles to steps = 6336 steps  \n",
    "4 miles to steps = 8448 steps  \n",
    "5 miles to steps = 10560 steps  \n",
    "\n",
    "> Questions: \n",
    "1. Where are we going to split our times?\n",
    "2. What two weeks are we predicting?\n",
    "3. What is the distance formula?"
   ]
  },
  {
   "cell_type": "markdown",
   "metadata": {},
   "source": [
    "## Prepare the Environment"
   ]
  },
  {
   "cell_type": "markdown",
   "metadata": {},
   "source": [
    "## Preparation <a name=\"preparation\"></a>"
   ]
  },
  {
   "cell_type": "code",
   "execution_count": 25,
   "metadata": {},
   "outputs": [],
   "source": [
    "df = pd.concat(acquire_fitbit())\n",
    "df = df.convert_objects(convert_numeric=True, convert_dates=True)\n",
    "df.index = pd.to_datetime(df.index)"
   ]
  },
  {
   "cell_type": "code",
   "execution_count": 26,
   "metadata": {},
   "outputs": [],
   "source": [
    "def add_date_parts(df):\n",
    "    '''\n",
    "    Function to add columns based on date: month, day of month, day of week\n",
    "    '''\n",
    "    df['month'] = df.index.month\n",
    "    df['day'] = df.index.day\n",
    "    df['weekday'] = df.index.day_name()\n",
    "    \n",
    "    return df\n",
    "\n",
    "def nulls_by_col(df):\n",
    "    '''\n",
    "    Funciton used to find missing information in each column\n",
    "    '''\n",
    "    num_missing = df.isnull().sum()\n",
    "    rows = df.shape[0]\n",
    "    pct_missing = num_missing/rows\n",
    "    cols_missing = pd.DataFrame({'num_rows_missing': num_missing, 'pct_rows_missing': pct_missing})\n",
    "    \n",
    "    return cols_missing\n",
    "\n",
    "def nulls_by_row(df):\n",
    "    '''\n",
    "    Function used to find missing information in each row\n",
    "    '''\n",
    "    num_cols_missing = df.isnull().sum(axis=1)\n",
    "    pct_cols_missing = df.isnull().sum(axis=1)/df.shape[1]*100\n",
    "    rows_missing = pd.DataFrame({'num_cols_missing': num_cols_missing, 'pct_cols_missing': pct_cols_missing})\\\n",
    "                     .reset_index().groupby(['num_cols_missing','pct_cols_missing']).count()\\\n",
    "                     .rename(index=str, columns={'index': 'num_rows'}).reset_index()\n",
    "    \n",
    "    return rows_missing\n",
    "\n",
    "def df_summary(df):\n",
    "    '''\n",
    "    Funciton summarizes our created data frame with information on: shape, type & null info, desribe function from pandas library, null values by column, null values by row, and value counts\n",
    "    '''\n",
    "    print('--- Shape: {}'.format(df.shape))\n",
    "    print('--- Info')\n",
    "    df.info()\n",
    "    print('--- Descriptions')\n",
    "    print(df.describe(include='all'))\n",
    "    print('--- Nulls By Column')\n",
    "    print(nulls_by_col(df))\n",
    "    print('--- Nulls By Row')\n",
    "    print(nulls_by_row(df))"
   ]
  },
  {
   "cell_type": "code",
   "execution_count": 27,
   "metadata": {},
   "outputs": [],
   "source": [
    "df = add_date_parts(df)"
   ]
  },
  {
   "cell_type": "code",
   "execution_count": 28,
   "metadata": {},
   "outputs": [
    {
     "name": "stdout",
     "output_type": "stream",
     "text": [
      "--- Shape: (719, 19)\n",
      "--- Info\n",
      "<class 'pandas.core.frame.DataFrame'>\n",
      "DatetimeIndex: 719 entries, 2018-04-26 to 2018-12-28\n",
      "Data columns (total 19 columns):\n",
      "activity_calories    50 non-null float64\n",
      "calories             482 non-null float64\n",
      "carbs                247 non-null object\n",
      "distance             225 non-null float64\n",
      "fat                  247 non-null object\n",
      "fiber                247 non-null object\n",
      "floors               225 non-null float64\n",
      "mins_active_high     225 non-null float64\n",
      "mins_active_light    225 non-null float64\n",
      "mins_active_med      225 non-null float64\n",
      "mins_sedentary       188 non-null float64\n",
      "protien              247 non-null object\n",
      "sodium               247 non-null object\n",
      "steps                20 non-null float64\n",
      "total_calories       1 non-null float64\n",
      "water                247 non-null object\n",
      "month                719 non-null int64\n",
      "day                  719 non-null int64\n",
      "weekday              719 non-null object\n",
      "dtypes: float64(10), int64(2), object(7)\n",
      "memory usage: 112.3+ KB\n",
      "--- Descriptions\n",
      "        activity_calories    calories carbs    distance  fat fiber  \\\n",
      "count           50.000000  482.000000   247  225.000000  247   247   \n",
      "unique                NaN         NaN     9         NaN    9     7   \n",
      "top                   NaN         NaN   0 g         NaN  0 g   0 g   \n",
      "freq                  NaN         NaN   239         NaN  239   239   \n",
      "mean           480.480000    5.838174   NaN    4.046800  NaN   NaN   \n",
      "std            382.676943   64.580356   NaN    2.506253  NaN   NaN   \n",
      "min              0.000000    0.000000   NaN    0.000000  NaN   NaN   \n",
      "25%             39.750000    0.000000   NaN    2.220000  NaN   NaN   \n",
      "50%            523.000000    0.000000   NaN    3.680000  NaN   NaN   \n",
      "75%            827.250000    0.000000   NaN    5.900000  NaN   NaN   \n",
      "max            999.000000  807.000000   NaN   12.000000  NaN   NaN   \n",
      "\n",
      "            floors  mins_active_high  mins_active_light  mins_active_med  \\\n",
      "count   225.000000        225.000000         225.000000       225.000000   \n",
      "unique         NaN               NaN                NaN              NaN   \n",
      "top            NaN               NaN                NaN              NaN   \n",
      "freq           NaN               NaN                NaN              NaN   \n",
      "mean     12.591111         33.871111         188.235556        14.920000   \n",
      "std      25.844174         37.195986          75.170001        15.363535   \n",
      "min       0.000000          0.000000           0.000000         0.000000   \n",
      "25%       2.000000          2.000000         158.000000         3.000000   \n",
      "50%       7.000000         15.000000         203.000000        11.000000   \n",
      "75%      13.000000         63.000000         236.000000        21.000000   \n",
      "max     195.000000        154.000000         349.000000        78.000000   \n",
      "\n",
      "        mins_sedentary protien sodium       steps  total_calories    water  \\\n",
      "count       188.000000     247    247   20.000000             1.0      247   \n",
      "unique             NaN       9      9         NaN             NaN        1   \n",
      "top                NaN     0 g   0 mg         NaN             NaN  0 fl oz   \n",
      "freq               NaN     239    239         NaN             NaN      247   \n",
      "mean        719.579787     NaN    NaN  175.700000           799.0      NaN   \n",
      "std         130.136288     NaN    NaN  324.843784             NaN      NaN   \n",
      "min          28.000000     NaN    NaN    0.000000           799.0      NaN   \n",
      "25%         645.500000     NaN    NaN    0.000000           799.0      NaN   \n",
      "50%         717.000000     NaN    NaN    0.000000           799.0      NaN   \n",
      "75%         805.500000     NaN    NaN  180.750000           799.0      NaN   \n",
      "max         994.000000     NaN    NaN  952.000000           799.0      NaN   \n",
      "\n",
      "             month         day   weekday  \n",
      "count   719.000000  719.000000       719  \n",
      "unique         NaN         NaN         7  \n",
      "top            NaN         NaN  Thursday  \n",
      "freq           NaN         NaN       105  \n",
      "mean      8.253129   15.841446       NaN  \n",
      "std       2.284723    8.906972       NaN  \n",
      "min       4.000000    1.000000       NaN  \n",
      "25%       6.000000    8.000000       NaN  \n",
      "50%       8.000000   16.000000       NaN  \n",
      "75%      10.000000   24.000000       NaN  \n",
      "max      12.000000   31.000000       NaN  \n",
      "--- Nulls By Column\n",
      "                   num_rows_missing  pct_rows_missing\n",
      "activity_calories               669          0.930459\n",
      "calories                        237          0.329624\n",
      "carbs                           472          0.656467\n",
      "distance                        494          0.687065\n",
      "fat                             472          0.656467\n",
      "fiber                           472          0.656467\n",
      "floors                          494          0.687065\n",
      "mins_active_high                494          0.687065\n",
      "mins_active_light               494          0.687065\n",
      "mins_active_med                 494          0.687065\n",
      "mins_sedentary                  531          0.738526\n",
      "protien                         472          0.656467\n",
      "sodium                          472          0.656467\n",
      "steps                           699          0.972184\n",
      "total_calories                  718          0.998609\n",
      "water                           472          0.656467\n",
      "month                             0          0.000000\n",
      "day                               0          0.000000\n",
      "weekday                           0          0.000000\n",
      "--- Nulls By Row\n",
      "  num_cols_missing    pct_cols_missing  num_rows\n",
      "0                7   36.84210526315789         1\n",
      "1                8   42.10526315789473         4\n",
      "2                9  47.368421052631575       281\n",
      "3               10   52.63157894736842       169\n",
      "4               11   57.89473684210527        17\n",
      "5               15   78.94736842105263       241\n",
      "6               16   84.21052631578947         6\n"
     ]
    }
   ],
   "source": [
    "df_summary(df)"
   ]
  },
  {
   "cell_type": "markdown",
   "metadata": {},
   "source": [
    "### Handle Missing Values"
   ]
  },
  {
   "cell_type": "markdown",
   "metadata": {},
   "source": [
    "\n",
    ">- We do want to look where are current numbers land to see how we want to structure our null values\n",
    ">- Option could be just to add a zero there; reasoning could because the person forgot to log his info\n",
    ">- Could use the average because if these guys are so busy that they do not have time for side conversations they may just eat/do the same thing each day  \n",
    ">- There are non-type or int + str types that we need to work on what to do in this case"
   ]
  },
  {
   "cell_type": "code",
   "execution_count": 29,
   "metadata": {},
   "outputs": [
    {
     "name": "stdout",
     "output_type": "stream",
     "text": [
      "\n",
      "- activity_calories -\n",
      "(-1.0, 249.75]     17\n",
      "(249.75, 499.5]     7\n",
      "(499.5, 749.25]     7\n",
      "(749.25, 999.0]    19\n",
      "Name: activity_calories, dtype: int64\n",
      "\n",
      "- calories -\n",
      "(-0.808, 201.75]    478\n",
      "(201.75, 403.5]       0\n",
      "(403.5, 605.25]       2\n",
      "(605.25, 807.0]       2\n",
      "Name: calories, dtype: int64\n",
      "\n",
      "- distance -\n",
      "(-0.013000000000000001, 3.0]    83\n",
      "(3.0, 6.0]                      88\n",
      "(6.0, 9.0]                      48\n",
      "(9.0, 12.0]                      6\n",
      "Name: distance, dtype: int64\n",
      "\n",
      "- floors -\n",
      "(-0.196, 48.75]    216\n",
      "(48.75, 97.5]        2\n",
      "(97.5, 146.25]       4\n",
      "(146.25, 195.0]      3\n",
      "Name: floors, dtype: int64\n",
      "\n",
      "- mins_active_high -\n",
      "(-0.155, 38.5]    142\n",
      "(38.5, 77.0]       43\n",
      "(77.0, 115.5]      36\n",
      "(115.5, 154.0]      4\n",
      "Name: mins_active_high, dtype: int64\n",
      "\n",
      "- mins_active_light -\n",
      "(-0.35, 87.25]      24\n",
      "(87.25, 174.5]      53\n",
      "(174.5, 261.75]    121\n",
      "(261.75, 349.0]     27\n",
      "Name: mins_active_light, dtype: int64\n",
      "\n",
      "- mins_active_med -\n",
      "(-0.079, 19.5]    161\n",
      "(19.5, 39.0]       45\n",
      "(39.0, 58.5]       15\n",
      "(58.5, 78.0]        4\n",
      "Name: mins_active_med, dtype: int64\n",
      "\n",
      "- mins_sedentary -\n",
      "(27.032999999999998, 269.5]      1\n",
      "(269.5, 511.0]                   8\n",
      "(511.0, 752.5]                 104\n",
      "(752.5, 994.0]                  75\n",
      "Name: mins_sedentary, dtype: int64\n",
      "\n",
      "- steps -\n",
      "(-0.953, 238.0]    16\n",
      "(238.0, 476.0]      1\n",
      "(476.0, 714.0]      0\n",
      "(714.0, 952.0]      3\n",
      "Name: steps, dtype: int64\n",
      "\n",
      "- total_calories -\n",
      "(798.2, 798.6]      0\n",
      "(798.6, 799.0]      1\n",
      "(799.0, 799.4]      0\n",
      "(799.4, 799.799]    0\n",
      "Name: total_calories, dtype: int64\n",
      "\n",
      "- month -\n",
      "(3.991, 6.0]    198\n",
      "(6.0, 8.0]      186\n",
      "(8.0, 10.0]     183\n",
      "(10.0, 12.0]    152\n",
      "Name: month, dtype: int64\n",
      "\n",
      "- day -\n",
      "(0.969, 8.5]    190\n",
      "(8.5, 16.0]     184\n",
      "(16.0, 23.5]    161\n",
      "(23.5, 31.0]    184\n",
      "Name: day, dtype: int64\n"
     ]
    }
   ],
   "source": [
    "for col in df.select_dtypes('number'):\n",
    "    print(f'\\n- {col} -')\n",
    "    print(df[col].value_counts(bins=4, sort=False))"
   ]
  },
  {
   "cell_type": "markdown",
   "metadata": {},
   "source": [
    "**_Thoughts:_**\n",
    "> We are going to try and use Facebooks Prophet to generate quick time series data to fill missing values"
   ]
  },
  {
   "cell_type": "code",
   "execution_count": 69,
   "metadata": {},
   "outputs": [],
   "source": [
    "df['ds'] = df.index\n",
    "df['y'] = df.distance"
   ]
  },
  {
   "cell_type": "code",
   "execution_count": 99,
   "metadata": {},
   "outputs": [
    {
     "name": "stderr",
     "output_type": "stream",
     "text": [
      "INFO:fbprophet:Disabling daily seasonality. Run prophet with daily_seasonality=True to override this.\n"
     ]
    },
    {
     "data": {
      "text/plain": [
       "<fbprophet.forecaster.Prophet at 0x1c19177978>"
      ]
     },
     "execution_count": 99,
     "metadata": {},
     "output_type": "execute_result"
    }
   ],
   "source": [
    "m = Prophet(yearly_seasonality = True, seasonality_prior_scale=0.3)\n",
    "m.fit(df)"
   ]
  },
  {
   "cell_type": "code",
   "execution_count": 110,
   "metadata": {},
   "outputs": [
    {
     "data": {
      "text/html": [
       "<div>\n",
       "<style scoped>\n",
       "    .dataframe tbody tr th:only-of-type {\n",
       "        vertical-align: middle;\n",
       "    }\n",
       "\n",
       "    .dataframe tbody tr th {\n",
       "        vertical-align: top;\n",
       "    }\n",
       "\n",
       "    .dataframe thead th {\n",
       "        text-align: right;\n",
       "    }\n",
       "</style>\n",
       "<table border=\"1\" class=\"dataframe\">\n",
       "  <thead>\n",
       "    <tr style=\"text-align: right;\">\n",
       "      <th></th>\n",
       "      <th>ds</th>\n",
       "      <th>yhat</th>\n",
       "      <th>yhat_lower</th>\n",
       "      <th>yhat_upper</th>\n",
       "    </tr>\n",
       "  </thead>\n",
       "  <tbody>\n",
       "    <tr>\n",
       "      <th>927</th>\n",
       "      <td>2019-07-25</td>\n",
       "      <td>14.200005</td>\n",
       "      <td>12.127149</td>\n",
       "      <td>16.339830</td>\n",
       "    </tr>\n",
       "    <tr>\n",
       "      <th>928</th>\n",
       "      <td>2019-07-26</td>\n",
       "      <td>14.422992</td>\n",
       "      <td>12.277880</td>\n",
       "      <td>16.439928</td>\n",
       "    </tr>\n",
       "    <tr>\n",
       "      <th>929</th>\n",
       "      <td>2019-07-27</td>\n",
       "      <td>14.911175</td>\n",
       "      <td>12.698774</td>\n",
       "      <td>16.887700</td>\n",
       "    </tr>\n",
       "    <tr>\n",
       "      <th>930</th>\n",
       "      <td>2019-07-28</td>\n",
       "      <td>15.054186</td>\n",
       "      <td>13.010461</td>\n",
       "      <td>17.145237</td>\n",
       "    </tr>\n",
       "    <tr>\n",
       "      <th>931</th>\n",
       "      <td>2019-07-29</td>\n",
       "      <td>13.899851</td>\n",
       "      <td>11.789529</td>\n",
       "      <td>16.114248</td>\n",
       "    </tr>\n",
       "  </tbody>\n",
       "</table>\n",
       "</div>"
      ],
      "text/plain": [
       "            ds       yhat  yhat_lower  yhat_upper\n",
       "927 2019-07-25  14.200005   12.127149   16.339830\n",
       "928 2019-07-26  14.422992   12.277880   16.439928\n",
       "929 2019-07-27  14.911175   12.698774   16.887700\n",
       "930 2019-07-28  15.054186   13.010461   17.145237\n",
       "931 2019-07-29  13.899851   11.789529   16.114248"
      ]
     },
     "execution_count": 110,
     "metadata": {},
     "output_type": "execute_result"
    }
   ],
   "source": [
    "forecast = m.predict(future)\n",
    "forecast[['ds', 'yhat', 'yhat_lower', 'yhat_upper']].tail()"
   ]
  },
  {
   "cell_type": "code",
   "execution_count": 108,
   "metadata": {},
   "outputs": [
    {
     "data": {
      "image/png": "[encoded data removed]",
      "text/plain": [
       "<Figure size 720x432 with 1 Axes>"
      ]
     },
     "metadata": {},
     "output_type": "display_data"
    }
   ],
   "source": [
    "fig1 = m.plot(forecast)"
   ]
  },
  {
   "cell_type": "code",
   "execution_count": 103,
   "metadata": {},
   "outputs": [
    {
     "data": {
      "image/png": "[encoded data removed]",
      "text/plain": [
       "<Figure size 648x648 with 3 Axes>"
      ]
     },
     "metadata": {},
     "output_type": "display_data"
    }
   ],
   "source": [
    "fig2 = m.plot_components(forecast)"
   ]
  },
  {
   "cell_type": "code",
   "execution_count": 104,
   "metadata": {},
   "outputs": [
    {
     "name": "stderr",
     "output_type": "stream",
     "text": [
      "INFO:fbprophet:Making 7 forecasts with cutoffs between 2018-08-08 00:00:00 and 2018-11-06 00:00:00\n"
     ]
    },
    {
     "data": {
      "text/html": [
       "<div>\n",
       "<style scoped>\n",
       "    .dataframe tbody tr th:only-of-type {\n",
       "        vertical-align: middle;\n",
       "    }\n",
       "\n",
       "    .dataframe tbody tr th {\n",
       "        vertical-align: top;\n",
       "    }\n",
       "\n",
       "    .dataframe thead th {\n",
       "        text-align: right;\n",
       "    }\n",
       "</style>\n",
       "<table border=\"1\" class=\"dataframe\">\n",
       "  <thead>\n",
       "    <tr style=\"text-align: right;\">\n",
       "      <th></th>\n",
       "      <th>horizon</th>\n",
       "      <th>mse</th>\n",
       "      <th>rmse</th>\n",
       "      <th>mae</th>\n",
       "      <th>mape</th>\n",
       "      <th>coverage</th>\n",
       "    </tr>\n",
       "  </thead>\n",
       "  <tbody>\n",
       "    <tr>\n",
       "      <th>92</th>\n",
       "      <td>3 days</td>\n",
       "      <td>5.770147</td>\n",
       "      <td>2.402113</td>\n",
       "      <td>2.041369</td>\n",
       "      <td>10.103230</td>\n",
       "      <td>0.476190</td>\n",
       "    </tr>\n",
       "    <tr>\n",
       "      <th>63</th>\n",
       "      <td>4 days</td>\n",
       "      <td>5.891572</td>\n",
       "      <td>2.427256</td>\n",
       "      <td>2.073149</td>\n",
       "      <td>10.143929</td>\n",
       "      <td>0.428571</td>\n",
       "    </tr>\n",
       "    <tr>\n",
       "      <th>153</th>\n",
       "      <td>4 days</td>\n",
       "      <td>5.850779</td>\n",
       "      <td>2.418838</td>\n",
       "      <td>2.034480</td>\n",
       "      <td>10.138088</td>\n",
       "      <td>0.428571</td>\n",
       "    </tr>\n",
       "    <tr>\n",
       "      <th>33</th>\n",
       "      <td>4 days</td>\n",
       "      <td>5.777435</td>\n",
       "      <td>2.403630</td>\n",
       "      <td>2.026944</td>\n",
       "      <td>2.318450</td>\n",
       "      <td>0.428571</td>\n",
       "    </tr>\n",
       "    <tr>\n",
       "      <th>183</th>\n",
       "      <td>4 days</td>\n",
       "      <td>5.382053</td>\n",
       "      <td>2.319925</td>\n",
       "      <td>1.933352</td>\n",
       "      <td>2.307621</td>\n",
       "      <td>0.476190</td>\n",
       "    </tr>\n",
       "  </tbody>\n",
       "</table>\n",
       "</div>"
      ],
      "text/plain": [
       "    horizon       mse      rmse       mae       mape  coverage\n",
       "92   3 days  5.770147  2.402113  2.041369  10.103230  0.476190\n",
       "63   4 days  5.891572  2.427256  2.073149  10.143929  0.428571\n",
       "153  4 days  5.850779  2.418838  2.034480  10.138088  0.428571\n",
       "33   4 days  5.777435  2.403630  2.026944   2.318450  0.428571\n",
       "183  4 days  5.382053  2.319925  1.933352   2.307621  0.476190"
      ]
     },
     "execution_count": 104,
     "metadata": {},
     "output_type": "execute_result"
    }
   ],
   "source": [
    "from fbprophet.diagnostics import cross_validation, performance_metrics\n",
    "# cross_validation(m, initial = 730, period = 180, horizon = 365, units = 'days')\n",
    "df_cv = cross_validation(m, horizon='30 days')\n",
    "\n",
    "\n",
    "df_p = performance_metrics(df_cv)\n",
    "df_p.head(5)"
   ]
  },
  {
   "cell_type": "code",
   "execution_count": 105,
   "metadata": {},
   "outputs": [
    {
     "data": {
      "image/png": "[encoded data removed]",
      "text/plain": [
       "<Figure size 720x432 with 1 Axes>"
      ]
     },
     "metadata": {},
     "output_type": "display_data"
    }
   ],
   "source": [
    "from fbprophet.plot import plot_cross_validation_metric, plot_forecast_component\n",
    "\n",
    "fig3 = plot_cross_validation_metric(df_cv, metric='rmse')"
   ]
  },
  {
   "cell_type": "markdown",
   "metadata": {},
   "source": [
    "### Handle Duplicates"
   ]
  },
  {
   "cell_type": "markdown",
   "metadata": {},
   "source": [
    "**_TODO:_**\n",
    "> Do we have duplicated data??"
   ]
  },
  {
   "cell_type": "markdown",
   "metadata": {},
   "source": [
    "### Handle Outliers"
   ]
  },
  {
   "cell_type": "markdown",
   "metadata": {},
   "source": [
    "**_TODO:_**\n",
    "> Personally do not want to remove outliers here; however we should be finding the missing values"
   ]
  },
  {
   "cell_type": "markdown",
   "metadata": {},
   "source": [
    "### Re-Check Missing Values & Summary"
   ]
  },
  {
   "cell_type": "code",
   "execution_count": 33,
   "metadata": {},
   "outputs": [
    {
     "name": "stdout",
     "output_type": "stream",
     "text": [
      "--- Shape: (719, 21)\n",
      "--- Info\n",
      "<class 'pandas.core.frame.DataFrame'>\n",
      "DatetimeIndex: 719 entries, 2018-04-26 to 2018-12-28\n",
      "Data columns (total 21 columns):\n",
      "activity_calories    50 non-null float64\n",
      "calories             482 non-null float64\n",
      "carbs                247 non-null object\n",
      "distance             225 non-null float64\n",
      "fat                  247 non-null object\n",
      "fiber                247 non-null object\n",
      "floors               225 non-null float64\n",
      "mins_active_high     225 non-null float64\n",
      "mins_active_light    225 non-null float64\n",
      "mins_active_med      225 non-null float64\n",
      "mins_sedentary       188 non-null float64\n",
      "protien              247 non-null object\n",
      "sodium               247 non-null object\n",
      "steps                20 non-null float64\n",
      "total_calories       1 non-null float64\n",
      "water                247 non-null object\n",
      "month                719 non-null int64\n",
      "day                  719 non-null int64\n",
      "weekday              719 non-null object\n",
      "ds                   719 non-null datetime64[ns]\n",
      "y                    20 non-null float64\n",
      "dtypes: datetime64[ns](1), float64(11), int64(2), object(7)\n",
      "memory usage: 123.6+ KB\n",
      "--- Descriptions\n",
      "        activity_calories    calories carbs    distance  fat fiber  \\\n",
      "count           50.000000  482.000000   247  225.000000  247   247   \n",
      "unique                NaN         NaN     9         NaN    9     7   \n",
      "top                   NaN         NaN   0 g         NaN  0 g   0 g   \n",
      "freq                  NaN         NaN   239         NaN  239   239   \n",
      "first                 NaN         NaN   NaN         NaN  NaN   NaN   \n",
      "last                  NaN         NaN   NaN         NaN  NaN   NaN   \n",
      "mean           480.480000    5.838174   NaN    4.046800  NaN   NaN   \n",
      "std            382.676943   64.580356   NaN    2.506253  NaN   NaN   \n",
      "min              0.000000    0.000000   NaN    0.000000  NaN   NaN   \n",
      "25%             39.750000    0.000000   NaN    2.220000  NaN   NaN   \n",
      "50%            523.000000    0.000000   NaN    3.680000  NaN   NaN   \n",
      "75%            827.250000    0.000000   NaN    5.900000  NaN   NaN   \n",
      "max            999.000000  807.000000   NaN   12.000000  NaN   NaN   \n",
      "\n",
      "            floors  mins_active_high  mins_active_light  mins_active_med  \\\n",
      "count   225.000000        225.000000         225.000000       225.000000   \n",
      "unique         NaN               NaN                NaN              NaN   \n",
      "top            NaN               NaN                NaN              NaN   \n",
      "freq           NaN               NaN                NaN              NaN   \n",
      "first          NaN               NaN                NaN              NaN   \n",
      "last           NaN               NaN                NaN              NaN   \n",
      "mean     12.591111         33.871111         188.235556        14.920000   \n",
      "std      25.844174         37.195986          75.170001        15.363535   \n",
      "min       0.000000          0.000000           0.000000         0.000000   \n",
      "25%       2.000000          2.000000         158.000000         3.000000   \n",
      "50%       7.000000         15.000000         203.000000        11.000000   \n",
      "75%      13.000000         63.000000         236.000000        21.000000   \n",
      "max     195.000000        154.000000         349.000000        78.000000   \n",
      "\n",
      "           ...      protien sodium       steps  total_calories    water  \\\n",
      "count      ...          247    247   20.000000             1.0      247   \n",
      "unique     ...            9      9         NaN             NaN        1   \n",
      "top        ...          0 g   0 mg         NaN             NaN  0 fl oz   \n",
      "freq       ...          239    239         NaN             NaN      247   \n",
      "first      ...          NaN    NaN         NaN             NaN      NaN   \n",
      "last       ...          NaN    NaN         NaN             NaN      NaN   \n",
      "mean       ...          NaN    NaN  175.700000           799.0      NaN   \n",
      "std        ...          NaN    NaN  324.843784             NaN      NaN   \n",
      "min        ...          NaN    NaN    0.000000           799.0      NaN   \n",
      "25%        ...          NaN    NaN    0.000000           799.0      NaN   \n",
      "50%        ...          NaN    NaN    0.000000           799.0      NaN   \n",
      "75%        ...          NaN    NaN  180.750000           799.0      NaN   \n",
      "max        ...          NaN    NaN  952.000000           799.0      NaN   \n",
      "\n",
      "             month         day   weekday                   ds           y  \n",
      "count   719.000000  719.000000       719                  719   20.000000  \n",
      "unique         NaN         NaN         7                  247         NaN  \n",
      "top            NaN         NaN  Thursday  2018-05-04 00:00:00         NaN  \n",
      "freq           NaN         NaN       105                    3         NaN  \n",
      "first          NaN         NaN       NaN  2018-04-26 00:00:00         NaN  \n",
      "last           NaN         NaN       NaN  2018-12-28 00:00:00         NaN  \n",
      "mean      8.253129   15.841446       NaN                  NaN  175.700000  \n",
      "std       2.284723    8.906972       NaN                  NaN  324.843784  \n",
      "min       4.000000    1.000000       NaN                  NaN    0.000000  \n",
      "25%       6.000000    8.000000       NaN                  NaN    0.000000  \n",
      "50%       8.000000   16.000000       NaN                  NaN    0.000000  \n",
      "75%      10.000000   24.000000       NaN                  NaN  180.750000  \n",
      "max      12.000000   31.000000       NaN                  NaN  952.000000  \n",
      "\n",
      "[13 rows x 21 columns]\n",
      "--- Nulls By Column\n",
      "                   num_rows_missing  pct_rows_missing\n",
      "activity_calories               669          0.930459\n",
      "calories                        237          0.329624\n",
      "carbs                           472          0.656467\n",
      "distance                        494          0.687065\n",
      "fat                             472          0.656467\n",
      "fiber                           472          0.656467\n",
      "floors                          494          0.687065\n",
      "mins_active_high                494          0.687065\n",
      "mins_active_light               494          0.687065\n",
      "mins_active_med                 494          0.687065\n",
      "mins_sedentary                  531          0.738526\n",
      "protien                         472          0.656467\n",
      "sodium                          472          0.656467\n",
      "steps                           699          0.972184\n",
      "total_calories                  718          0.998609\n",
      "water                           472          0.656467\n",
      "month                             0          0.000000\n",
      "day                               0          0.000000\n",
      "weekday                           0          0.000000\n",
      "ds                                0          0.000000\n",
      "y                               699          0.972184\n",
      "--- Nulls By Row\n",
      "  num_cols_missing    pct_cols_missing  num_rows\n",
      "0                7   33.33333333333333         1\n",
      "1                8  38.095238095238095         4\n",
      "2                9  42.857142857142854        15\n",
      "3               10   47.61904761904761       266\n",
      "4               11   52.38095238095239       169\n",
      "5               12   57.14285714285714        17\n",
      "6               16   76.19047619047619       241\n",
      "7               17   80.95238095238095         6\n"
     ]
    }
   ],
   "source": [
    "df_summary(df)"
   ]
  },
  {
   "cell_type": "markdown",
   "metadata": {},
   "source": [
    "## Exploration  <a name=\"exploration\"></a>"
   ]
  },
  {
   "cell_type": "code",
   "execution_count": 34,
   "metadata": {},
   "outputs": [],
   "source": [
    "def createheatmap(df):\n",
    "    '''\n",
    "    Function we will use to create heatmaps with pretty specific parameters that keep these heatmaps uniform\n",
    "    '''\n",
    "    sns.set(style = \"white\")\n",
    "    corrd = df.corr()\n",
    "    mask = np.zeros_like(corrd, dtype=np.bool)    ### returns an array of zerros for NA's to fill each column; ensures each column is the same shape\n",
    "    mask[np.triu_indices_from(mask)] = True       ### returns the indices for the upper-triangle of an (n, m) array.\n",
    "    f, ax = plt.subplots(figsize=(15, 9))\n",
    "    cmap = sns.diverging_palette(220, 10, as_cmap=True)\n",
    "    sns.heatmap(corrd, mask=mask, cmap=cmap, square=True, \n",
    "                xticklabels=True, yticklabels=True, \n",
    "                linewidths=.5, ax=ax)\n",
    "\n",
    "def bin_feature(df, col, newcol, bin_cuts=[]):\n",
    "    '''\n",
    "    Function we will use to bin different columns during our exploration -> returns the dataframe with the column binned \n",
    "    '''\n",
    "    labs = list(range(len(bin_cuts)))[1:]\n",
    "    df[newcol] = pd.cut(df[col], bin_cuts, labels=labs, include_lowest=False)\n",
    "    \n",
    "    return df\n",
    "\n",
    "def summary_stat(df, col_name):\n",
    "    '''\n",
    "    Function to provide median, min, and max of data in column -> returns a new small dataframe with the info\n",
    "    '''\n",
    "    df = pd.DataFrame({'Mean ' : str(round(np.mean(df[col_name]),2)),\n",
    "         'Median' : str(np.median(df[col_name])),\n",
    "         'Min' : str(np.min(df[col_name])),\n",
    "         'Max' : str(np.max(df[col_name]))}, index=[0])\n",
    "    \n",
    "    return df"
   ]
  },
  {
   "cell_type": "markdown",
   "metadata": {},
   "source": [
    "**_Thoughts:_**\n",
    "> We want to see how each month looks stacked up together using the distance metric  \n",
    "> We want to get a total amount so that we can potentially look at the rolling average  \n",
    "> Instead of the distance we really do want to use **step count**"
   ]
  },
  {
   "cell_type": "code",
   "execution_count": 35,
   "metadata": {},
   "outputs": [
    {
     "data": {
      "text/html": [
       "<div>\n",
       "<style scoped>\n",
       "    .dataframe tbody tr th:only-of-type {\n",
       "        vertical-align: middle;\n",
       "    }\n",
       "\n",
       "    .dataframe tbody tr th {\n",
       "        vertical-align: top;\n",
       "    }\n",
       "\n",
       "    .dataframe thead th {\n",
       "        text-align: right;\n",
       "    }\n",
       "</style>\n",
       "<table border=\"1\" class=\"dataframe\">\n",
       "  <thead>\n",
       "    <tr style=\"text-align: right;\">\n",
       "      <th></th>\n",
       "      <th>activity_calories</th>\n",
       "      <th>calories</th>\n",
       "      <th>carbs</th>\n",
       "      <th>distance</th>\n",
       "      <th>fat</th>\n",
       "      <th>fiber</th>\n",
       "      <th>floors</th>\n",
       "      <th>mins_active_high</th>\n",
       "      <th>mins_active_light</th>\n",
       "      <th>mins_active_med</th>\n",
       "      <th>mins_sedentary</th>\n",
       "      <th>protien</th>\n",
       "      <th>sodium</th>\n",
       "      <th>steps</th>\n",
       "      <th>total_calories</th>\n",
       "      <th>water</th>\n",
       "      <th>day</th>\n",
       "      <th>weekday</th>\n",
       "      <th>ds</th>\n",
       "      <th>y</th>\n",
       "    </tr>\n",
       "    <tr>\n",
       "      <th>month</th>\n",
       "      <th></th>\n",
       "      <th></th>\n",
       "      <th></th>\n",
       "      <th></th>\n",
       "      <th></th>\n",
       "      <th></th>\n",
       "      <th></th>\n",
       "      <th></th>\n",
       "      <th></th>\n",
       "      <th></th>\n",
       "      <th></th>\n",
       "      <th></th>\n",
       "      <th></th>\n",
       "      <th></th>\n",
       "      <th></th>\n",
       "      <th></th>\n",
       "      <th></th>\n",
       "      <th></th>\n",
       "      <th></th>\n",
       "      <th></th>\n",
       "    </tr>\n",
       "  </thead>\n",
       "  <tbody>\n",
       "    <tr>\n",
       "      <th>4</th>\n",
       "      <td>566.0</td>\n",
       "      <td>0.0</td>\n",
       "      <td>0 g</td>\n",
       "      <td>1.38</td>\n",
       "      <td>0 g</td>\n",
       "      <td>0 g</td>\n",
       "      <td>2.0</td>\n",
       "      <td>0.0</td>\n",
       "      <td>93.0</td>\n",
       "      <td>0.0</td>\n",
       "      <td>702.0</td>\n",
       "      <td>0 g</td>\n",
       "      <td>0 mg</td>\n",
       "      <td>NaN</td>\n",
       "      <td>NaN</td>\n",
       "      <td>0 fl oz</td>\n",
       "      <td>26</td>\n",
       "      <td>Thursday</td>\n",
       "      <td>2018-04-26</td>\n",
       "      <td>NaN</td>\n",
       "    </tr>\n",
       "    <tr>\n",
       "      <th>5</th>\n",
       "      <td>419.0</td>\n",
       "      <td>0.0</td>\n",
       "      <td>0 g</td>\n",
       "      <td>1.22</td>\n",
       "      <td>0 g</td>\n",
       "      <td>0 g</td>\n",
       "      <td>0.0</td>\n",
       "      <td>2.0</td>\n",
       "      <td>167.0</td>\n",
       "      <td>13.0</td>\n",
       "      <td>919.0</td>\n",
       "      <td>0 g</td>\n",
       "      <td>0 mg</td>\n",
       "      <td>904.0</td>\n",
       "      <td>NaN</td>\n",
       "      <td>0 fl oz</td>\n",
       "      <td>1</td>\n",
       "      <td>Tuesday</td>\n",
       "      <td>2018-05-01</td>\n",
       "      <td>904.0</td>\n",
       "    </tr>\n",
       "    <tr>\n",
       "      <th>6</th>\n",
       "      <td>752.0</td>\n",
       "      <td>0.0</td>\n",
       "      <td>0 g</td>\n",
       "      <td>3.26</td>\n",
       "      <td>0 g</td>\n",
       "      <td>0 g</td>\n",
       "      <td>0.0</td>\n",
       "      <td>2.0</td>\n",
       "      <td>279.0</td>\n",
       "      <td>10.0</td>\n",
       "      <td>690.0</td>\n",
       "      <td>0 g</td>\n",
       "      <td>0 mg</td>\n",
       "      <td>0.0</td>\n",
       "      <td>NaN</td>\n",
       "      <td>0 fl oz</td>\n",
       "      <td>1</td>\n",
       "      <td>Friday</td>\n",
       "      <td>2018-06-01</td>\n",
       "      <td>0.0</td>\n",
       "    </tr>\n",
       "    <tr>\n",
       "      <th>7</th>\n",
       "      <td>67.0</td>\n",
       "      <td>0.0</td>\n",
       "      <td>0 g</td>\n",
       "      <td>2.22</td>\n",
       "      <td>0 g</td>\n",
       "      <td>0 g</td>\n",
       "      <td>4.0</td>\n",
       "      <td>0.0</td>\n",
       "      <td>232.0</td>\n",
       "      <td>0.0</td>\n",
       "      <td>821.0</td>\n",
       "      <td>0 g</td>\n",
       "      <td>0 mg</td>\n",
       "      <td>172.0</td>\n",
       "      <td>NaN</td>\n",
       "      <td>0 fl oz</td>\n",
       "      <td>1</td>\n",
       "      <td>Sunday</td>\n",
       "      <td>2018-07-01</td>\n",
       "      <td>172.0</td>\n",
       "    </tr>\n",
       "    <tr>\n",
       "      <th>8</th>\n",
       "      <td>972.0</td>\n",
       "      <td>0.0</td>\n",
       "      <td>0 g</td>\n",
       "      <td>7.48</td>\n",
       "      <td>0 g</td>\n",
       "      <td>0 g</td>\n",
       "      <td>15.0</td>\n",
       "      <td>96.0</td>\n",
       "      <td>259.0</td>\n",
       "      <td>9.0</td>\n",
       "      <td>608.0</td>\n",
       "      <td>0 g</td>\n",
       "      <td>0 mg</td>\n",
       "      <td>68.0</td>\n",
       "      <td>799.0</td>\n",
       "      <td>0 fl oz</td>\n",
       "      <td>27</td>\n",
       "      <td>Monday</td>\n",
       "      <td>2018-08-27</td>\n",
       "      <td>68.0</td>\n",
       "    </tr>\n",
       "    <tr>\n",
       "      <th>9</th>\n",
       "      <td>852.0</td>\n",
       "      <td>0.0</td>\n",
       "      <td>0 g</td>\n",
       "      <td>1.86</td>\n",
       "      <td>0 g</td>\n",
       "      <td>0 g</td>\n",
       "      <td>7.0</td>\n",
       "      <td>5.0</td>\n",
       "      <td>133.0</td>\n",
       "      <td>13.0</td>\n",
       "      <td>798.0</td>\n",
       "      <td>0 g</td>\n",
       "      <td>0 mg</td>\n",
       "      <td>NaN</td>\n",
       "      <td>NaN</td>\n",
       "      <td>0 fl oz</td>\n",
       "      <td>1</td>\n",
       "      <td>Saturday</td>\n",
       "      <td>2018-09-01</td>\n",
       "      <td>NaN</td>\n",
       "    </tr>\n",
       "    <tr>\n",
       "      <th>10</th>\n",
       "      <td>NaN</td>\n",
       "      <td>0.0</td>\n",
       "      <td>0 g</td>\n",
       "      <td>3.92</td>\n",
       "      <td>0 g</td>\n",
       "      <td>0 g</td>\n",
       "      <td>8.0</td>\n",
       "      <td>24.0</td>\n",
       "      <td>201.0</td>\n",
       "      <td>5.0</td>\n",
       "      <td>813.0</td>\n",
       "      <td>0 g</td>\n",
       "      <td>0 mg</td>\n",
       "      <td>NaN</td>\n",
       "      <td>NaN</td>\n",
       "      <td>0 fl oz</td>\n",
       "      <td>1</td>\n",
       "      <td>Monday</td>\n",
       "      <td>2018-10-01</td>\n",
       "      <td>NaN</td>\n",
       "    </tr>\n",
       "    <tr>\n",
       "      <th>11</th>\n",
       "      <td>NaN</td>\n",
       "      <td>0.0</td>\n",
       "      <td>0 g</td>\n",
       "      <td>7.14</td>\n",
       "      <td>0 g</td>\n",
       "      <td>0 g</td>\n",
       "      <td>11.0</td>\n",
       "      <td>80.0</td>\n",
       "      <td>164.0</td>\n",
       "      <td>12.0</td>\n",
       "      <td>698.0</td>\n",
       "      <td>0 g</td>\n",
       "      <td>0 mg</td>\n",
       "      <td>NaN</td>\n",
       "      <td>NaN</td>\n",
       "      <td>0 fl oz</td>\n",
       "      <td>1</td>\n",
       "      <td>Thursday</td>\n",
       "      <td>2018-11-01</td>\n",
       "      <td>NaN</td>\n",
       "    </tr>\n",
       "    <tr>\n",
       "      <th>12</th>\n",
       "      <td>NaN</td>\n",
       "      <td>0.0</td>\n",
       "      <td>0 g</td>\n",
       "      <td>7.27</td>\n",
       "      <td>0 g</td>\n",
       "      <td>0 g</td>\n",
       "      <td>7.0</td>\n",
       "      <td>67.0</td>\n",
       "      <td>233.0</td>\n",
       "      <td>22.0</td>\n",
       "      <td>527.0</td>\n",
       "      <td>0 g</td>\n",
       "      <td>0 mg</td>\n",
       "      <td>NaN</td>\n",
       "      <td>NaN</td>\n",
       "      <td>0 fl oz</td>\n",
       "      <td>1</td>\n",
       "      <td>Saturday</td>\n",
       "      <td>2018-12-01</td>\n",
       "      <td>NaN</td>\n",
       "    </tr>\n",
       "  </tbody>\n",
       "</table>\n",
       "</div>"
      ],
      "text/plain": [
       "       activity_calories  calories carbs  distance  fat fiber  floors  \\\n",
       "month                                                                   \n",
       "4                  566.0       0.0   0 g      1.38  0 g   0 g     2.0   \n",
       "5                  419.0       0.0   0 g      1.22  0 g   0 g     0.0   \n",
       "6                  752.0       0.0   0 g      3.26  0 g   0 g     0.0   \n",
       "7                   67.0       0.0   0 g      2.22  0 g   0 g     4.0   \n",
       "8                  972.0       0.0   0 g      7.48  0 g   0 g    15.0   \n",
       "9                  852.0       0.0   0 g      1.86  0 g   0 g     7.0   \n",
       "10                   NaN       0.0   0 g      3.92  0 g   0 g     8.0   \n",
       "11                   NaN       0.0   0 g      7.14  0 g   0 g    11.0   \n",
       "12                   NaN       0.0   0 g      7.27  0 g   0 g     7.0   \n",
       "\n",
       "       mins_active_high  mins_active_light  mins_active_med  mins_sedentary  \\\n",
       "month                                                                         \n",
       "4                   0.0               93.0              0.0           702.0   \n",
       "5                   2.0              167.0             13.0           919.0   \n",
       "6                   2.0              279.0             10.0           690.0   \n",
       "7                   0.0              232.0              0.0           821.0   \n",
       "8                  96.0              259.0              9.0           608.0   \n",
       "9                   5.0              133.0             13.0           798.0   \n",
       "10                 24.0              201.0              5.0           813.0   \n",
       "11                 80.0              164.0             12.0           698.0   \n",
       "12                 67.0              233.0             22.0           527.0   \n",
       "\n",
       "      protien sodium  steps  total_calories    water  day   weekday  \\\n",
       "month                                                                 \n",
       "4         0 g   0 mg    NaN             NaN  0 fl oz   26  Thursday   \n",
       "5         0 g   0 mg  904.0             NaN  0 fl oz    1   Tuesday   \n",
       "6         0 g   0 mg    0.0             NaN  0 fl oz    1    Friday   \n",
       "7         0 g   0 mg  172.0             NaN  0 fl oz    1    Sunday   \n",
       "8         0 g   0 mg   68.0           799.0  0 fl oz   27    Monday   \n",
       "9         0 g   0 mg    NaN             NaN  0 fl oz    1  Saturday   \n",
       "10        0 g   0 mg    NaN             NaN  0 fl oz    1    Monday   \n",
       "11        0 g   0 mg    NaN             NaN  0 fl oz    1  Thursday   \n",
       "12        0 g   0 mg    NaN             NaN  0 fl oz    1  Saturday   \n",
       "\n",
       "              ds      y  \n",
       "month                    \n",
       "4     2018-04-26    NaN  \n",
       "5     2018-05-01  904.0  \n",
       "6     2018-06-01    0.0  \n",
       "7     2018-07-01  172.0  \n",
       "8     2018-08-27   68.0  \n",
       "9     2018-09-01    NaN  \n",
       "10    2018-10-01    NaN  \n",
       "11    2018-11-01    NaN  \n",
       "12    2018-12-01    NaN  "
      ]
     },
     "execution_count": 35,
     "metadata": {},
     "output_type": "execute_result"
    }
   ],
   "source": [
    "df.groupby('month').first()    ### Compute first of group values"
   ]
  },
  {
   "cell_type": "markdown",
   "metadata": {},
   "source": [
    "**_Thoughts:_**\n",
    "> Here we want to see if the total distance traveled has a trend by month  \n",
    "> This person had a peak in distance traveled in November; he must have just gotten the FitBit in April  \n",
    "> We can also add steps once we fill all missing values"
   ]
  },
  {
   "cell_type": "code",
   "execution_count": 36,
   "metadata": {},
   "outputs": [
    {
     "data": {
      "text/html": [
       "<div>\n",
       "<style scoped>\n",
       "    .dataframe tbody tr th:only-of-type {\n",
       "        vertical-align: middle;\n",
       "    }\n",
       "\n",
       "    .dataframe tbody tr th {\n",
       "        vertical-align: top;\n",
       "    }\n",
       "\n",
       "    .dataframe thead th {\n",
       "        text-align: right;\n",
       "    }\n",
       "</style>\n",
       "<table border=\"1\" class=\"dataframe\">\n",
       "  <thead>\n",
       "    <tr style=\"text-align: right;\">\n",
       "      <th></th>\n",
       "      <th>distance</th>\n",
       "      <th>steps</th>\n",
       "    </tr>\n",
       "    <tr>\n",
       "      <th>month</th>\n",
       "      <th></th>\n",
       "      <th></th>\n",
       "    </tr>\n",
       "  </thead>\n",
       "  <tbody>\n",
       "    <tr>\n",
       "      <th>4</th>\n",
       "      <td>9.13</td>\n",
       "      <td>0.0</td>\n",
       "    </tr>\n",
       "    <tr>\n",
       "      <th>5</th>\n",
       "      <td>60.76</td>\n",
       "      <td>2710.0</td>\n",
       "    </tr>\n",
       "    <tr>\n",
       "      <th>6</th>\n",
       "      <td>56.34</td>\n",
       "      <td>0.0</td>\n",
       "    </tr>\n",
       "    <tr>\n",
       "      <th>7</th>\n",
       "      <td>101.18</td>\n",
       "      <td>529.0</td>\n",
       "    </tr>\n",
       "    <tr>\n",
       "      <th>8</th>\n",
       "      <td>157.33</td>\n",
       "      <td>275.0</td>\n",
       "    </tr>\n",
       "    <tr>\n",
       "      <th>9</th>\n",
       "      <td>109.65</td>\n",
       "      <td>0.0</td>\n",
       "    </tr>\n",
       "    <tr>\n",
       "      <th>10</th>\n",
       "      <td>177.94</td>\n",
       "      <td>0.0</td>\n",
       "    </tr>\n",
       "    <tr>\n",
       "      <th>11</th>\n",
       "      <td>198.61</td>\n",
       "      <td>0.0</td>\n",
       "    </tr>\n",
       "    <tr>\n",
       "      <th>12</th>\n",
       "      <td>39.59</td>\n",
       "      <td>0.0</td>\n",
       "    </tr>\n",
       "  </tbody>\n",
       "</table>\n",
       "</div>"
      ],
      "text/plain": [
       "       distance   steps\n",
       "month                  \n",
       "4          9.13     0.0\n",
       "5         60.76  2710.0\n",
       "6         56.34     0.0\n",
       "7        101.18   529.0\n",
       "8        157.33   275.0\n",
       "9        109.65     0.0\n",
       "10       177.94     0.0\n",
       "11       198.61     0.0\n",
       "12        39.59     0.0"
      ]
     },
     "execution_count": 36,
     "metadata": {},
     "output_type": "execute_result"
    }
   ],
   "source": [
    "df.groupby('month')[['distance', 'steps']].sum()    ### Compute each months total distance and total steps"
   ]
  },
  {
   "cell_type": "markdown",
   "metadata": {},
   "source": [
    "**_Thoughts:_**\n",
    "> Let's graph a boxplot so we can see the information regarding the shape, variability, and center (or median) of monthly distance"
   ]
  },
  {
   "cell_type": "code",
   "execution_count": 37,
   "metadata": {},
   "outputs": [
    {
     "data": {
      "text/plain": [
       "Text(0.5, 0, 'Month')"
      ]
     },
     "execution_count": 37,
     "metadata": {},
     "output_type": "execute_result"
    },
    {
     "data": {
      "image/png": "[encoded data removed]",
      "text/plain": [
       "<Figure size 864x432 with 1 Axes>"
      ]
     },
     "metadata": {
      "needs_background": "light"
     },
     "output_type": "display_data"
    }
   ],
   "source": [
    "df.boxplot(column = 'distance', by = 'month', figsize=(12,6))\n",
    "\n",
    "plt.xticks(fontsize=14)  \n",
    "plt.yticks(fontsize=14)\n",
    "\n",
    "plt.title('')\n",
    "plt.suptitle('Monthly Distance Boxplot')\n",
    "plt.ylabel('Distance')\n",
    "plt.xlabel('Month')"
   ]
  },
  {
   "cell_type": "markdown",
   "metadata": {},
   "source": [
    "**_Thoughts:_**\n",
    "> Individuals walked distance increased significantly in August.  \n",
    "> His/Her distance remained stable in November and December. However, in May through August, it rose suddenly.  \n",
    "> In August and September, there was a sudden drop in distance."
   ]
  },
  {
   "cell_type": "code",
   "execution_count": 38,
   "metadata": {},
   "outputs": [
    {
     "data": {
      "text/plain": [
       "Text(0, 0.5, 'Distance')"
      ]
     },
     "execution_count": 38,
     "metadata": {},
     "output_type": "execute_result"
    },
    {
     "data": {
      "image/png": "[encoded data removed]",
      "text/plain": [
       "<Figure size 864x432 with 1 Axes>"
      ]
     },
     "metadata": {
      "needs_background": "light"
     },
     "output_type": "display_data"
    }
   ],
   "source": [
    "fig = plt.figure(figsize = (12,6))\n",
    "\n",
    "ax = fig.add_subplot(111)\n",
    "DOWdf = df.groupby(by='weekday').mean()\n",
    "meanDOW = DOWdf['distance']\n",
    "meanDOW.plot(linestyle='-', marker='o', markersize=10)\n",
    "\n",
    "ax.get_xaxis().tick_bottom()  \n",
    "ax.get_yaxis().tick_left()\n",
    "\n",
    "plt.xticks(fontsize=10)  \n",
    "plt.yticks(fontsize=14)  \n",
    "\n",
    "plt.title('Distance Walked vs. Day of the Week', fontsize=15)\n",
    "plt.xlabel('Weekday', fontsize=14)\n",
    "plt.xlabel('Day of the Week')\n",
    "plt.xlabel(meanDOW.index.name, fontsize=14)\n",
    "plt.ylabel('Distance', fontsize=14)"
   ]
  },
  {
   "cell_type": "markdown",
   "metadata": {},
   "source": [
    "**_TODO:_**\n",
    "> Need to write a detailed breakdown of what the data shows us here  \n",
    "> Need to update code to show what day of the week each tickmark represents"
   ]
  },
  {
   "cell_type": "code",
   "execution_count": 39,
   "metadata": {},
   "outputs": [
    {
     "data": {
      "image/png": "[encoded data removed]",
      "text/plain": [
       "<Figure size 1080x648 with 2 Axes>"
      ]
     },
     "metadata": {},
     "output_type": "display_data"
    }
   ],
   "source": [
    "createheatmap(df.drop(columns=['total_calories']))"
   ]
  },
  {
   "cell_type": "markdown",
   "metadata": {},
   "source": [
    "**_TODO:_**\n",
    "> Need to figure out different correlations here speak to them...  \n",
    "> Currently - Total year has too many missing values & year only has the one  \n",
    "> Which variables are we going to start binning?  \n",
    "> Which statistical models are we going to start preparing for?"
   ]
  },
  {
   "cell_type": "markdown",
   "metadata": {},
   "source": [
    "**_TODO: Workday hours, Non workday hours, Weekend hours_**\n",
    "> Can we create two seperate df for each test  \n",
    "> New df's will include:\n",
    "> 1. Days of the week\n",
    "> 2. Hours from 9 to 5 (as type int)"
   ]
  },
  {
   "cell_type": "markdown",
   "metadata": {},
   "source": [
    "### Train-Test Split"
   ]
  },
  {
   "cell_type": "markdown",
   "metadata": {},
   "source": [
    "**_TODO:_**\n",
    "> 1. Modeling Time Series Using Parametric Methods  \n",
    "> 2. Prophet"
   ]
  },
  {
   "cell_type": "markdown",
   "metadata": {},
   "source": [
    "### Visualizations"
   ]
  },
  {
   "cell_type": "markdown",
   "metadata": {},
   "source": [
    "**_TODO:_**\n",
    "> **TIME TO SHINE!**"
   ]
  },
  {
   "cell_type": "markdown",
   "metadata": {},
   "source": [
    "### Statistical Tests"
   ]
  },
  {
   "cell_type": "code",
   "execution_count": 40,
   "metadata": {},
   "outputs": [],
   "source": [
    "def calculate_r2(Actual_Y, Estimated_Y):\n",
    "    '''\n",
    "    Function that calculates R squared\n",
    "    '''\n",
    "    return float(1 - sum((Actual_Y-Estimated_Y)**2 ) / sum((Actual_Y-Actual_Y.mean(axis=0))**2))\n",
    "\n",
    "def calculate_rmse(Actual_Y, Estimated_Y):\n",
    "    '''\n",
    "    Function that calculates Root Mean Squared Error\n",
    "    '''\n",
    "    return(math.sqrt(sum((Actual_Y-Estimated_Y )**2 ) / Actual_Y.shape[0]))\n",
    "\n",
    "def evaluate(actual, predictions, output=True):\n",
    "    '''\n",
    "    Function calculates the mean squared error and the root mean square error by taking the square root of the mse\n",
    "    '''\n",
    "    mse = metrics.mean_squared_error(actual, predictions)\n",
    "    rmse = math.sqrt(mse)\n",
    "\n",
    "    if output:\n",
    "        print('MSE:  {}'.format(mse))\n",
    "        print('RMSE: {}'.format(rmse))\n",
    "    else:\n",
    "        return mse, rmse    "
   ]
  },
  {
   "cell_type": "markdown",
   "metadata": {},
   "source": [
    "### Summarize Conclusions"
   ]
  },
  {
   "cell_type": "markdown",
   "metadata": {},
   "source": [
    "**_TODO:_**\n",
    "> Summarize our statistical findings"
   ]
  },
  {
   "cell_type": "markdown",
   "metadata": {},
   "source": [
    "## Modeling <a name=\"modeling\"></a>"
   ]
  },
  {
   "cell_type": "markdown",
   "metadata": {},
   "source": [
    "### Feature Engineering & Selection"
   ]
  },
  {
   "cell_type": "code",
   "execution_count": 41,
   "metadata": {},
   "outputs": [],
   "source": [
    "def new_features(df):\n",
    "    '''\n",
    "    Function used to create new features -> returns the original dataframe with new features added\n",
    "    '''\n",
    "    return df\n",
    "\n",
    "def plot_data_and_predictions(predictions, label):\n",
    "    '''\n",
    "    Function plots using matplotlib\n",
    "    '''\n",
    "    plt.figure(figsize=(10, 8))\n",
    "\n",
    "    plt.plot(train,label='Train')\n",
    "    plt.plot(test, label='Test')\n",
    "    plt.plot(predictions, label=label, linewidth=5)\n",
    "\n",
    "    plt.legend(loc='best')\n",
    "    plt.show()\n",
    "\n",
    "### Add plot_and_eval function from curriculum"
   ]
  },
  {
   "cell_type": "markdown",
   "metadata": {},
   "source": [
    "### Train & Test Models"
   ]
  },
  {
   "cell_type": "markdown",
   "metadata": {},
   "source": [
    "**_TODO:_**\n",
    "> Build some models here:\n",
    "1. Would like to build a few functions here so that we could do differnt ML methods\n",
    "2. What is going to be our goal??\n",
    "3. I think we need to separate the data into different slices (i.e. use Sunday thru Friday to predict Saturday; Monday thru Saturday to predict Sunday... and so on)"
   ]
  },
  {
   "cell_type": "markdown",
   "metadata": {},
   "source": [
    "### Summarize Conclusions"
   ]
  },
  {
   "cell_type": "markdown",
   "metadata": {},
   "source": [
    "**_TODO:_**\n",
    "> Sumarize our training and test builds  \n",
    "> Create the CSV  \n",
    "> Find differnt ways to improve  "
   ]
  },
  {
   "cell_type": "code",
   "execution_count": null,
   "metadata": {},
   "outputs": [],
   "source": []
  }
 ],
 "metadata": {
  "kernelspec": {
   "display_name": "Python 3",
   "language": "python",
   "name": "python3"
  },
  "language_info": {
   "codemirror_mode": {
    "name": "ipython",
    "version": 3
   },
   "file_extension": ".py",
   "mimetype": "text/x-python",
   "name": "python",
   "nbconvert_exporter": "python",
   "pygments_lexer": "ipython3",
   "version": "3.7.1"
  }
 },
 "nbformat": 4,
 "nbformat_minor": 2
}
