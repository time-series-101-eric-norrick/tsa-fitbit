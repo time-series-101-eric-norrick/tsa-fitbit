{
 "cells": [
  {
   "cell_type": "markdown",
   "metadata": {},
   "source": [
    "# Fitbit Data Exploration: Making a prediction for the two weeks of missing data\n",
    "\n",
    "By: Norrick McGee and Eric Escalante  \n",
    "January 19, 2019  \n",
    "\n",
    "In this Jupyter Notebook, we will use the Time Series Methology and fitbit data collected from 04/26/2018 to 12/06/2018 to predict two weeks worth of missing data; we will add our pridicted data in a separate csv file."
   ]
  },
  {
   "cell_type": "markdown",
   "metadata": {},
   "source": [
    "## Imports\n",
    "**Import the necessary packages and their use cases for this project:**\n",
    "> pandas: data frames and data manipulation  \n",
    "> numpy: summary statistics  \n",
    "> matplotlib: used for visualizations  \n",
    "> seasborn: fancy visualizations  \n",
    "> datetime: turn the dates into datetime objects / get day of week  \n",
    "> warning: used to ignore python warnings"
   ]
  },
  {
   "cell_type": "code",
   "execution_count": 60,
   "metadata": {},
   "outputs": [],
   "source": [
    "from acquire import acquire_fitbit\n",
    "\n",
    "import numpy as np\n",
    "import pandas as pd\n",
    "\n",
    "import os\n",
    "from datetime import datetime\n",
    "import itertools\n",
    " \n",
    "import matplotlib\n",
    "import matplotlib.pyplot as plt\n",
    "import seaborn as sns\n",
    "import statsmodels.api as sm\n",
    "\n",
    "%matplotlib inline\n",
    "\n",
    "import warnings\n",
    "warnings.filterwarnings(\"ignore\")"
   ]
  },
  {
   "cell_type": "markdown",
   "metadata": {},
   "source": [
    "## Table of contents\n",
    "1. [Project Planning](#project-planning)\n",
    "1. [Acquisition](#acquisition)\n",
    "1. [Preparation](#preparation)\n",
    "1. [Exploration](#exploration)\n",
    "1. [Modeling](#modeling)"
   ]
  },
  {
   "cell_type": "markdown",
   "metadata": {},
   "source": [
    "## Project Planning <a name=\"project-planning\"></a>"
   ]
  },
  {
   "cell_type": "markdown",
   "metadata": {},
   "source": [
    "### Goals  \n",
    "> Goals for the Project are:  \n",
    "1. We will predict using different Time Series Methodologies the missing two weeks of Fitbit data\n",
    "2. We will show the reasoning behind our preditions with visualizations and statistical findings\n",
    "3. Finally we will create a viewable csv file with those pridictions so that you could see the endire dataset"
   ]
  },
  {
   "cell_type": "markdown",
   "metadata": {},
   "source": [
    "### Deliverables"
   ]
  },
  {
   "cell_type": "markdown",
   "metadata": {},
   "source": [
    "**_TODO:_**\n",
    "> Summarization of the data:"
   ]
  },
  {
   "cell_type": "markdown",
   "metadata": {},
   "source": [
    "### Data Dictionary & Domain Knowledge"
   ]
  },
  {
   "cell_type": "markdown",
   "metadata": {},
   "source": [
    "So we have sixteen columns in our dataset. Let us understand what each one is.\n",
    "\n",
    "> **activity_calories:** amount of calories burned throughout the day   \n",
    "> **calories:** amount of calories consumed throughout the day  \n",
    "> **carbs:** amount of carbs consumed throughout the day  \n",
    "> **distance:** distance traveled  \n",
    "> **fat:** amount of fat consumed throughout the day  \n",
    "> **fiber:** amount of fiber comsumed throughout the day  \n",
    "> **floors:** floors climbed  \n",
    "> **mins_active_high:** minutes of high activity in the day   \n",
    "> **mins_active_light:** minutes of light activity in the day  \n",
    "> **mins_active_med:** minutes of moderate activity in the day  \n",
    "> **mins_sedentary:** minutes the fit bit assums you are sitting down  \n",
    "> **protien:** amount of protein consumed throughout the day  \n",
    "> **sodium:** amount of sodium consumed throughout the day  \n",
    "> **steps:** total amount of steps taken in a day  \n",
    "> **total_calories:** total calories consumed throughout the day  \n",
    "> **water:** metric desplays tracked water intake or set a consumption"
   ]
  },
  {
   "cell_type": "markdown",
   "metadata": {},
   "source": [
    "### Hypotheses"
   ]
  },
  {
   "cell_type": "markdown",
   "metadata": {},
   "source": [
    "**_TODO:_**  \n",
    "> Hypotheses:"
   ]
  },
  {
   "cell_type": "markdown",
   "metadata": {},
   "source": [
    "### Thoughts & Questions"
   ]
  },
  {
   "cell_type": "markdown",
   "metadata": {},
   "source": [
    "**_TODO:_**\n",
    "> Thoughts:  \n",
    "> Questions:"
   ]
  },
  {
   "cell_type": "markdown",
   "metadata": {},
   "source": [
    "## Prepare the Environment"
   ]
  },
  {
   "cell_type": "markdown",
   "metadata": {},
   "source": [
    "## Preparation <a name=\"preparation\"></a>"
   ]
  },
  {
   "cell_type": "code",
   "execution_count": 51,
   "metadata": {},
   "outputs": [],
   "source": [
    "df = pd.concat(acquire_fitbit())"
   ]
  },
  {
   "cell_type": "code",
   "execution_count": 58,
   "metadata": {},
   "outputs": [],
   "source": [
    "def nulls_by_col(df):\n",
    "    '''\n",
    "    Funciton used to find missing information in each column\n",
    "    '''\n",
    "    num_missing = df.isnull().sum()\n",
    "    rows = df.shape[0]\n",
    "    pct_missing = num_missing/rows\n",
    "    cols_missing = pd.DataFrame({'num_rows_missing': num_missing, 'pct_rows_missing': pct_missing})\n",
    "    return cols_missing\n",
    "\n",
    "def nulls_by_row(df):\n",
    "    '''\n",
    "    Function used to find missing information in each row\n",
    "    '''\n",
    "    num_cols_missing = df.isnull().sum(axis=1)\n",
    "    pct_cols_missing = df.isnull().sum(axis=1)/df.shape[1]*100\n",
    "    rows_missing = pd.DataFrame({'num_cols_missing': num_cols_missing, 'pct_cols_missing': pct_cols_missing})\\\n",
    "                     .reset_index().groupby(['num_cols_missing','pct_cols_missing']).count()\\\n",
    "                     .rename(index=str, columns={'index': 'num_rows'}).reset_index()\n",
    "    return rows_missing\n",
    "\n",
    "def df_summary(df):\n",
    "    '''\n",
    "    Funciton summarizes our created data frame with information on: shape, type & null info, desribe function from pandas library, \n",
    "    null values by column, null values by row, and value counts\n",
    "    '''\n",
    "    print('--- Shape: {}'.format(df.shape))\n",
    "    print('--- Info')\n",
    "    df.info()\n",
    "    print('--- Descriptions')\n",
    "    print(df.describe(include='all'))\n",
    "    print('--- Nulls By Column')\n",
    "    print(nulls_by_col(df))\n",
    "    print('--- Nulls By Row')\n",
    "    print(nulls_by_row(df))\n",
    "    print('--- Value Counts')"
   ]
  },
  {
   "cell_type": "code",
   "execution_count": 53,
   "metadata": {},
   "outputs": [
    {
     "name": "stdout",
     "output_type": "stream",
     "text": [
      "--- Shape: (711, 16)\n",
      "--- Info\n",
      "<class 'pandas.core.frame.DataFrame'>\n",
      "Index: 711 entries, 2018-04-26 to 20181228\n",
      "Data columns (total 16 columns):\n",
      "activity_calories    225 non-null object\n",
      "calories             486 non-null object\n",
      "carbs                239 non-null object\n",
      "distance             225 non-null object\n",
      "fat                  239 non-null object\n",
      "fiber                239 non-null object\n",
      "floors               225 non-null object\n",
      "mins_active_high     225 non-null object\n",
      "mins_active_light    225 non-null object\n",
      "mins_active_med      225 non-null object\n",
      "mins_sedentary       225 non-null object\n",
      "protien              239 non-null object\n",
      "sodium               239 non-null object\n",
      "steps                225 non-null object\n",
      "total_calories       225 non-null object\n",
      "water                239 non-null object\n",
      "dtypes: object(16)\n",
      "memory usage: 94.4+ KB\n",
      "--- Descriptions\n",
      "       activity_calories calories carbs distance  fat fiber floors  \\\n",
      "count                225      486   239      225  239   239    225   \n",
      "unique               207        9     9      188    9     7     38   \n",
      "top                    0        0   0 g        0  0 g   0 g      0   \n",
      "freq                   9      470   231       12  231   231     31   \n",
      "\n",
      "       mins_active_high mins_active_light mins_active_med mins_sedentary  \\\n",
      "count               225               225             225            225   \n",
      "unique               87               131              53            181   \n",
      "top                   0                 0               0          1,440   \n",
      "freq                 51                 9              46              9   \n",
      "\n",
      "       protien sodium steps total_calories    water  \n",
      "count      239    239   225            225      239  \n",
      "unique       9      9   213            207        1  \n",
      "top        0 g   0 mg     0          2,145  0 fl oz  \n",
      "freq       231    231    12              4      239  \n",
      "--- Nulls By Column\n",
      "                   num_rows_missing  pct_rows_missing\n",
      "activity_calories               486          0.683544\n",
      "calories                        225          0.316456\n",
      "carbs                           472          0.663854\n",
      "distance                        486          0.683544\n",
      "fat                             472          0.663854\n",
      "fiber                           472          0.663854\n",
      "floors                          486          0.683544\n",
      "mins_active_high                486          0.683544\n",
      "mins_active_light               486          0.683544\n",
      "mins_active_med                 486          0.683544\n",
      "mins_sedentary                  486          0.683544\n",
      "protien                         472          0.663854\n",
      "sodium                          472          0.663854\n",
      "steps                           486          0.683544\n",
      "total_calories                  486          0.683544\n",
      "water                           472          0.663854\n",
      "--- Nulls By Row\n",
      "  num_cols_missing pct_cols_missing  num_rows\n",
      "0                7            43.75       225\n",
      "1                9            56.25       239\n",
      "2               15            93.75       247\n",
      "--- Value Counts\n"
     ]
    }
   ],
   "source": [
    "df_summary(df)"
   ]
  },
  {
   "cell_type": "markdown",
   "metadata": {},
   "source": [
    "### Handle Missing Values"
   ]
  },
  {
   "cell_type": "markdown",
   "metadata": {},
   "source": [
    "**_TODO:_**\n",
    "> How are we going to handle all the missing values?\n",
    "1. Option could be just to add a zero there; reasoning could because the person forgot to log his info\n",
    "2. Could use the average because if these guys are so busy that they do not have time for side conversations they may just eat/do the same thing each day "
   ]
  },
  {
   "cell_type": "markdown",
   "metadata": {},
   "source": [
    "### Handle Duplicates"
   ]
  },
  {
   "cell_type": "markdown",
   "metadata": {},
   "source": [
    "**_TODO:_**\n",
    "> Do we have duplicated data"
   ]
  },
  {
   "cell_type": "markdown",
   "metadata": {},
   "source": [
    "### Fix Data Types"
   ]
  },
  {
   "cell_type": "markdown",
   "metadata": {},
   "source": [
    "**_TODO:_**\n",
    "> Need to decide which colums we want to change from an object to an int or float"
   ]
  },
  {
   "cell_type": "markdown",
   "metadata": {},
   "source": [
    "### Handle Outliers"
   ]
  },
  {
   "cell_type": "markdown",
   "metadata": {},
   "source": [
    "**_TODO:_**\n",
    "> Personally do not want to remove outliers here"
   ]
  },
  {
   "cell_type": "markdown",
   "metadata": {},
   "source": [
    "### Re-Check Missing Values"
   ]
  },
  {
   "cell_type": "code",
   "execution_count": 64,
   "metadata": {},
   "outputs": [
    {
     "name": "stdout",
     "output_type": "stream",
     "text": [
      "--- Shape: (711, 16)\n",
      "--- Info\n",
      "<class 'pandas.core.frame.DataFrame'>\n",
      "Index: 711 entries, 2018-04-26 to 20181228\n",
      "Data columns (total 16 columns):\n",
      "activity_calories    225 non-null object\n",
      "calories             486 non-null object\n",
      "carbs                239 non-null object\n",
      "distance             225 non-null object\n",
      "fat                  239 non-null object\n",
      "fiber                239 non-null object\n",
      "floors               225 non-null object\n",
      "mins_active_high     225 non-null object\n",
      "mins_active_light    225 non-null object\n",
      "mins_active_med      225 non-null object\n",
      "mins_sedentary       225 non-null object\n",
      "protien              239 non-null object\n",
      "sodium               239 non-null object\n",
      "steps                225 non-null object\n",
      "total_calories       225 non-null object\n",
      "water                239 non-null object\n",
      "dtypes: object(16)\n",
      "memory usage: 94.4+ KB\n",
      "--- Descriptions\n",
      "       activity_calories calories carbs distance  fat fiber floors  \\\n",
      "count                225      486   239      225  239   239    225   \n",
      "unique               207        9     9      188    9     7     38   \n",
      "top                    0        0   0 g        0  0 g   0 g      0   \n",
      "freq                   9      470   231       12  231   231     31   \n",
      "\n",
      "       mins_active_high mins_active_light mins_active_med mins_sedentary  \\\n",
      "count               225               225             225            225   \n",
      "unique               87               131              53            181   \n",
      "top                   0                 0               0          1,440   \n",
      "freq                 51                 9              46              9   \n",
      "\n",
      "       protien sodium steps total_calories    water  \n",
      "count      239    239   225            225      239  \n",
      "unique       9      9   213            207        1  \n",
      "top        0 g   0 mg     0          2,145  0 fl oz  \n",
      "freq       231    231    12              4      239  \n",
      "--- Nulls By Column\n",
      "                   num_rows_missing  pct_rows_missing\n",
      "activity_calories               486          0.683544\n",
      "calories                        225          0.316456\n",
      "carbs                           472          0.663854\n",
      "distance                        486          0.683544\n",
      "fat                             472          0.663854\n",
      "fiber                           472          0.663854\n",
      "floors                          486          0.683544\n",
      "mins_active_high                486          0.683544\n",
      "mins_active_light               486          0.683544\n",
      "mins_active_med                 486          0.683544\n",
      "mins_sedentary                  486          0.683544\n",
      "protien                         472          0.663854\n",
      "sodium                          472          0.663854\n",
      "steps                           486          0.683544\n",
      "total_calories                  486          0.683544\n",
      "water                           472          0.663854\n",
      "--- Nulls By Row\n",
      "  num_cols_missing pct_cols_missing  num_rows\n",
      "0                7            43.75       225\n",
      "1                9            56.25       239\n",
      "2               15            93.75       247\n",
      "--- Value Counts\n"
     ]
    }
   ],
   "source": [
    "df_summary(df)"
   ]
  },
  {
   "cell_type": "markdown",
   "metadata": {},
   "source": [
    "## Exploration  <a name=\"exploration\"></a>"
   ]
  },
  {
   "cell_type": "code",
   "execution_count": 61,
   "metadata": {},
   "outputs": [],
   "source": [
    "def summary_stat(df, col_name):\n",
    "    '''\n",
    "    Function to provide median, min, and max of data in column -> returns a new small dataframe with the info\n",
    "    '''\n",
    "    df = pd.DataFrame({'Mean ' : str(round(np.mean(df[col_name]),2)),\n",
    "         'Median' : str(np.median(df[col_name])),\n",
    "         'Min' : str(np.min(df[col_name])),\n",
    "         'Max' : str(np.max(df[col_name]))}, index=[0])\n",
    "    return df\n",
    "\n",
    "def bin_feature(df, col, newcol, bin_cuts=[]):\n",
    "    '''\n",
    "    Function we will use to bin different columns during our exploration -> returns the dataframe with the column binned \n",
    "    '''\n",
    "    labs = list(range(len(bin_cuts)))[1:]\n",
    "    df[newcol] = pd.cut(df[col], bin_cuts, labels=labs, include_lowest=False)\n",
    "    return df"
   ]
  },
  {
   "cell_type": "markdown",
   "metadata": {},
   "source": [
    "### Train-Test Split"
   ]
  },
  {
   "cell_type": "markdown",
   "metadata": {},
   "source": [
    "### Visualizations"
   ]
  },
  {
   "cell_type": "markdown",
   "metadata": {},
   "source": [
    "### Statistical Tests"
   ]
  },
  {
   "cell_type": "code",
   "execution_count": 62,
   "metadata": {},
   "outputs": [],
   "source": [
    "def calc_r2(Actual_Y, Estimated_Y):\n",
    "    '''\n",
    "    Function that calculates R squared\n",
    "    '''\n",
    "    return float(1 - sum((Actual_Y-Estimated_Y)**2 ) / sum((Actual_Y-Actual_Y.mean(axis=0))**2))\n",
    "\n",
    "def calc_rmse(Actual_Y, Estimated_Y):\n",
    "    '''\n",
    "    Function that calculates Root Mean Squared Error\n",
    "    '''\n",
    "    return( math.sqrt(sum((Actual_Y-Estimated_Y )**2 ) / Actual_Y.shape[0]))"
   ]
  },
  {
   "cell_type": "markdown",
   "metadata": {},
   "source": [
    "### Summarize Conclusions"
   ]
  },
  {
   "cell_type": "markdown",
   "metadata": {},
   "source": [
    "## Modeling <a name=\"modeling\"></a>"
   ]
  },
  {
   "cell_type": "markdown",
   "metadata": {},
   "source": [
    "### Feature Engineering & Selection"
   ]
  },
  {
   "cell_type": "code",
   "execution_count": 63,
   "metadata": {},
   "outputs": [],
   "source": [
    "def new_features(df):\n",
    "    '''\n",
    "    Function used to create new features -> returns the original dataframe with new features added\n",
    "    '''\n",
    "    return df"
   ]
  },
  {
   "cell_type": "markdown",
   "metadata": {},
   "source": [
    "### Train & Test Models"
   ]
  },
  {
   "cell_type": "markdown",
   "metadata": {},
   "source": [
    "### Summarize Conclusions"
   ]
  }
 ],
 "metadata": {
  "kernelspec": {
   "display_name": "Python 3",
   "language": "python",
   "name": "python3"
  },
  "language_info": {
   "codemirror_mode": {
    "name": "ipython",
    "version": 3
   },
   "file_extension": ".py",
   "mimetype": "text/x-python",
   "name": "python",
   "nbconvert_exporter": "python",
   "pygments_lexer": "ipython3",
   "version": "3.7.1"
  }
 },
 "nbformat": 4,
 "nbformat_minor": 2
}
