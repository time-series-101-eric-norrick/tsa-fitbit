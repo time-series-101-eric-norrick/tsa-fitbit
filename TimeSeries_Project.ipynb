{
 "cells": [
  {
   "cell_type": "markdown",
   "metadata": {},
   "source": [
    "# Fitbit Data Exploration: Making a prediction for the two weeks of missing data\n",
    "\n",
    "By: Norrick McGee and Eric Escalante  \n",
    "January 19, 2019  \n",
    "\n",
    "In this Jupyter Notebook, we will use the Time Series Methology and fitbit data collected from 04/26/2018 to 12/06/2018 to predict two weeks worth of missing data; we will add our pridicted data in a separate csv file."
   ]
  },
  {
   "cell_type": "markdown",
   "metadata": {},
   "source": [
    "## Imports\n",
    "**Import the necessary packages and their use cases for this project:**\n",
    "> **pandas:** data frames and data manipulation  \n",
    "> **numpy:** summary statistics  \n",
    "> **matplotlib:** used for visualizations  \n",
    "> **seasborn:** fancy visualizations  \n",
    "> **datetime:** turn the dates into datetime objects / get day of week  \n",
    "> **warning:** used to ignore python warnings  \n",
    "> **statsmodels:** library of different statistical tests we will be performing thoughout the project"
   ]
  },
  {
   "cell_type": "code",
   "execution_count": 1,
   "metadata": {},
   "outputs": [],
   "source": [
    "from prepare import prepare_fitbit\n",
    "\n",
    "import numpy as np\n",
    "import pandas as pd\n",
    "\n",
    "import os\n",
    "from datetime import datetime\n",
    "import itertools\n",
    " \n",
    "import matplotlib\n",
    "import matplotlib.pyplot as plt\n",
    "import seaborn as sns\n",
    "import statsmodels.api as sm\n",
    "\n",
    "%matplotlib inline\n",
    "\n",
    "import warnings\n",
    "warnings.filterwarnings(\"ignore\")\n",
    "\n",
    "from fbprophet import Prophet"
   ]
  },
  {
   "cell_type": "markdown",
   "metadata": {},
   "source": [
    "## Table of contents\n",
    "1. [Project Planning](#project-planning)\n",
    "1. [Acquisition](#acquisition)\n",
    "1. [Preparation](#preparation)\n",
    "1. [Exploration](#exploration)\n",
    "1. [Modeling](#modeling)"
   ]
  },
  {
   "cell_type": "markdown",
   "metadata": {},
   "source": [
    "## Project Planning <a name=\"project-planning\"></a>"
   ]
  },
  {
   "cell_type": "markdown",
   "metadata": {},
   "source": [
    "### Goals  \n",
    "> Goals for the Project are:  \n",
    "1. We will predict using different Time Series Methodologies the missing two weeks of Fitbit data\n",
    "2. We will show the reasoning behind our preditions with visualizations and statistical findings\n",
    "3. Finally we will create a viewable csv file with those pridictions so that you could see the endire dataset"
   ]
  },
  {
   "cell_type": "markdown",
   "metadata": {},
   "source": [
    "### Deliverables"
   ]
  },
  {
   "cell_type": "markdown",
   "metadata": {},
   "source": [
    "**_TODO:_**\n",
    "> Summarization of the data:"
   ]
  },
  {
   "cell_type": "markdown",
   "metadata": {},
   "source": [
    "### Data Dictionary & Domain Knowledge"
   ]
  },
  {
   "cell_type": "markdown",
   "metadata": {},
   "source": [
    "So we have sixteen columns in our dataset. Let us understand what each one is. We will be adding more throughout the project.\n",
    "\n",
    "> **activity_calories:** amount of calories burned throughout the day   \n",
    "> **calories:** amount of calories consumed throughout the day  \n",
    "> **carbs:** amount of carbs consumed throughout the day  \n",
    "> **distance:** distance traveled  \n",
    "> **fat:** amount of fat consumed throughout the day  \n",
    "> **fiber:** amount of fiber comsumed throughout the day  \n",
    "> **floors:** floors climbed  \n",
    "> **mins_active_high:** minutes of high activity in the day   \n",
    "> **mins_active_light:** minutes of light activity in the day  \n",
    "> **mins_active_med:** minutes of moderate activity in the day  \n",
    "> **mins_sedentary:** minutes the fit bit assums you are sitting down  \n",
    "> **protien:** amount of protein consumed throughout the day  \n",
    "> **sodium:** amount of sodium consumed throughout the day  \n",
    "> **steps:** total amount of steps taken in a day  \n",
    "> **total_calories:** total calories consumed throughout the day  \n",
    "> **water:** metric desplays tracked water intake or set a consumption"
   ]
  },
  {
   "cell_type": "markdown",
   "metadata": {},
   "source": [
    "### Hypotheses"
   ]
  },
  {
   "cell_type": "markdown",
   "metadata": {},
   "source": [
    "**_TODO:_**  \n",
    "> Hypotheses:"
   ]
  },
  {
   "cell_type": "markdown",
   "metadata": {},
   "source": [
    "### Thoughts & Questions"
   ]
  },
  {
   "cell_type": "markdown",
   "metadata": {},
   "source": [
    "> Thoughts:  \n",
    "1. We should only use our test data once\n",
    "2. Make sure we are resampling the data if we wanted to to differents training models within our original train data\n",
    "3. Distance has more data: maybe we use distance to equate the amount of steps\n",
    ">>1 miles to steps = 2112 steps  \n",
    "2 miles to steps = 4224 steps  \n",
    "3 miles to steps = 6336 steps  \n",
    "4 miles to steps = 8448 steps  \n",
    "5 miles to steps = 10560 steps  \n",
    "\n",
    "> Questions: \n",
    "1. Where are we going to split our times?\n",
    "2. What two weeks are we predicting?\n",
    "3. What is the distance formula?"
   ]
  },
  {
   "cell_type": "markdown",
   "metadata": {},
   "source": [
    "## Prepare the Environment"
   ]
  },
  {
   "cell_type": "markdown",
   "metadata": {},
   "source": [
    "## Preparation <a name=\"preparation\"></a>"
   ]
  },
  {
   "cell_type": "code",
   "execution_count": 2,
   "metadata": {},
   "outputs": [],
   "source": [
    "df = prepare_fitbit()"
   ]
  },
  {
   "cell_type": "code",
   "execution_count": 3,
   "metadata": {},
   "outputs": [],
   "source": [
    "def add_date_parts(df):\n",
    "    '''\n",
    "    Function to add columns based on date: month, day of month, day of week\n",
    "    '''\n",
    "    df['month'] = df.index.month\n",
    "    df['day'] = df.index.day\n",
    "    df['weekday'] = df.index.day_name()\n",
    "    \n",
    "    return df\n",
    "\n",
    "def nulls_by_col(df):\n",
    "    '''\n",
    "    Funciton used to find missing information in each column\n",
    "    '''\n",
    "    num_missing = df.isnull().sum()\n",
    "    rows = df.shape[0]\n",
    "    pct_missing = num_missing/rows\n",
    "    cols_missing = pd.DataFrame({'num_rows_missing': num_missing, 'pct_rows_missing': pct_missing})\n",
    "    \n",
    "    return cols_missing\n",
    "\n",
    "def nulls_by_row(df):\n",
    "    '''\n",
    "    Function used to find missing information in each row\n",
    "    '''\n",
    "    num_cols_missing = df.isnull().sum(axis=1)\n",
    "    pct_cols_missing = df.isnull().sum(axis=1)/df.shape[1]*100\n",
    "    rows_missing = pd.DataFrame({'num_cols_missing': num_cols_missing, 'pct_cols_missing': pct_cols_missing})\\\n",
    "                     .reset_index().groupby(['num_cols_missing','pct_cols_missing']).count()\\\n",
    "                     .rename(index=str, columns={'index': 'num_rows'}).reset_index()\n",
    "    \n",
    "    return rows_missing\n",
    "\n",
    "def df_summary(df):\n",
    "    '''\n",
    "    Funciton summarizes our created data frame with information on: shape, type & null info, desribe function from pandas library, null values by column, null values by row, and value counts\n",
    "    '''\n",
    "    print('--- Shape: {}'.format(df.shape))\n",
    "    print('--- Info')\n",
    "    df.info()\n",
    "    print('--- Descriptions')\n",
    "    print(df.describe(include='all'))\n",
    "    print('--- Nulls By Column')\n",
    "    print(nulls_by_col(df))\n",
    "    print('--- Nulls By Row')\n",
    "    print(nulls_by_row(df))"
   ]
  },
  {
   "cell_type": "code",
   "execution_count": 4,
   "metadata": {},
   "outputs": [],
   "source": [
    "df = add_date_parts(df)"
   ]
  },
  {
   "cell_type": "code",
   "execution_count": 5,
   "metadata": {},
   "outputs": [
    {
     "name": "stdout",
     "output_type": "stream",
     "text": [
      "--- Shape: (247, 19)\n",
      "--- Info\n",
      "<class 'pandas.core.frame.DataFrame'>\n",
      "DatetimeIndex: 247 entries, 2018-04-26 to 2018-12-28\n",
      "Data columns (total 19 columns):\n",
      "activity_calories    225 non-null float64\n",
      "distance             225 non-null float64\n",
      "floors               225 non-null float64\n",
      "mins_active_high     225 non-null float64\n",
      "mins_active_light    225 non-null float64\n",
      "mins_active_med      225 non-null float64\n",
      "mins_sedentary       225 non-null float64\n",
      "steps                225 non-null float64\n",
      "total_calories       225 non-null float64\n",
      "calories             247 non-null int64\n",
      "carbs                247 non-null object\n",
      "fat                  247 non-null object\n",
      "fiber                247 non-null object\n",
      "protien              247 non-null object\n",
      "sodium               247 non-null object\n",
      "water                247 non-null object\n",
      "month                247 non-null int64\n",
      "day                  247 non-null int64\n",
      "weekday              247 non-null object\n",
      "dtypes: float64(9), int64(3), object(7)\n",
      "memory usage: 38.6+ KB\n",
      "--- Descriptions\n",
      "        activity_calories    distance      floors  mins_active_high  \\\n",
      "count          225.000000  225.000000  225.000000        225.000000   \n",
      "unique                NaN         NaN         NaN               NaN   \n",
      "top                   NaN         NaN         NaN               NaN   \n",
      "freq                  NaN         NaN         NaN               NaN   \n",
      "mean          1484.546667    4.046800   12.591111         33.871111   \n",
      "std            747.795790    2.506253   25.844174         37.195986   \n",
      "min              0.000000    0.000000    0.000000          0.000000   \n",
      "25%           1062.000000    2.220000    2.000000          2.000000   \n",
      "50%           1481.000000    3.680000    7.000000         15.000000   \n",
      "75%           1962.000000    5.900000   13.000000         63.000000   \n",
      "max           3596.000000   12.000000  195.000000        154.000000   \n",
      "\n",
      "        mins_active_light  mins_active_med  mins_sedentary         steps  \\\n",
      "count          225.000000       225.000000      225.000000    225.000000   \n",
      "unique                NaN              NaN             NaN           NaN   \n",
      "top                   NaN              NaN             NaN           NaN   \n",
      "freq                  NaN              NaN             NaN           NaN   \n",
      "mean           188.235556        14.920000      809.520000   8536.186667   \n",
      "std             75.170001        15.363535      243.232639   5255.746608   \n",
      "min              0.000000         0.000000       28.000000      0.000000   \n",
      "25%            158.000000         3.000000      654.000000   4714.000000   \n",
      "50%            203.000000        11.000000      750.000000   7806.000000   \n",
      "75%            236.000000        21.000000      877.000000  12380.000000   \n",
      "max            349.000000        78.000000     1440.000000  25512.000000   \n",
      "\n",
      "        total_calories     calories carbs  fat fiber protien sodium    water  \\\n",
      "count       225.000000   247.000000   247  247   247     247    247      247   \n",
      "unique             NaN          NaN     9    9     7       9      9        1   \n",
      "top                NaN          NaN   0 g  0 g   0 g     0 g   0 mg  0 fl oz   \n",
      "freq               NaN          NaN   239  239   239     239    239      247   \n",
      "mean       3401.911111    51.129555   NaN  NaN   NaN     NaN    NaN      NaN   \n",
      "std         632.426578   300.846109   NaN  NaN   NaN     NaN    NaN      NaN   \n",
      "min         799.000000     0.000000   NaN  NaN   NaN     NaN    NaN      NaN   \n",
      "25%        3069.000000     0.000000   NaN  NaN   NaN     NaN    NaN      NaN   \n",
      "50%        3385.000000     0.000000   NaN  NaN   NaN     NaN    NaN      NaN   \n",
      "75%        3765.000000     0.000000   NaN  NaN   NaN     NaN    NaN      NaN   \n",
      "max        5199.000000  2276.000000   NaN  NaN   NaN     NaN    NaN      NaN   \n",
      "\n",
      "             month         day weekday  \n",
      "count   247.000000  247.000000     247  \n",
      "unique         NaN         NaN       7  \n",
      "top            NaN         NaN  Friday  \n",
      "freq           NaN         NaN      36  \n",
      "mean      8.364372   15.890688     NaN  \n",
      "std       2.341918    8.857969     NaN  \n",
      "min       4.000000    1.000000     NaN  \n",
      "25%       6.000000    8.000000     NaN  \n",
      "50%       8.000000   16.000000     NaN  \n",
      "75%      10.000000   24.000000     NaN  \n",
      "max      12.000000   31.000000     NaN  \n",
      "--- Nulls By Column\n",
      "                   num_rows_missing  pct_rows_missing\n",
      "activity_calories                22          0.089069\n",
      "distance                         22          0.089069\n",
      "floors                           22          0.089069\n",
      "mins_active_high                 22          0.089069\n",
      "mins_active_light                22          0.089069\n",
      "mins_active_med                  22          0.089069\n",
      "mins_sedentary                   22          0.089069\n",
      "steps                            22          0.089069\n",
      "total_calories                   22          0.089069\n",
      "calories                          0          0.000000\n",
      "carbs                             0          0.000000\n",
      "fat                               0          0.000000\n",
      "fiber                             0          0.000000\n",
      "protien                           0          0.000000\n",
      "sodium                            0          0.000000\n",
      "water                             0          0.000000\n",
      "month                             0          0.000000\n",
      "day                               0          0.000000\n",
      "weekday                           0          0.000000\n",
      "--- Nulls By Row\n",
      "  num_cols_missing    pct_cols_missing  num_rows\n",
      "0                0                 0.0       225\n",
      "1                9  47.368421052631575        22\n"
     ]
    }
   ],
   "source": [
    "df_summary(df)"
   ]
  },
  {
   "cell_type": "markdown",
   "metadata": {},
   "source": [
    "**Focus:**\n",
    "> activity_calories  \n",
    "> steps  \n",
    "> total_calories  "
   ]
  },
  {
   "cell_type": "markdown",
   "metadata": {},
   "source": [
    "### Handle Missing Values"
   ]
  },
  {
   "cell_type": "markdown",
   "metadata": {},
   "source": [
    "\n",
    ">- We do want to look where are current numbers land to see how we want to structure our null values\n",
    ">- Option could be just to add a zero there; reasoning could because the person forgot to log his info\n",
    ">- Could use the average because if these guys are so busy that they do not have time for side conversations they may just eat/do the same thing each day  \n",
    ">- There are non-type or int + str types that we need to work on what to do in this case"
   ]
  },
  {
   "cell_type": "code",
   "execution_count": 6,
   "metadata": {},
   "outputs": [
    {
     "name": "stdout",
     "output_type": "stream",
     "text": [
      "\n",
      "- activity_calories -\n",
      "(-3.597, 899.0]      41\n",
      "(899.0, 1798.0]     113\n",
      "(1798.0, 2697.0]     60\n",
      "(2697.0, 3596.0]     11\n",
      "Name: activity_calories, dtype: int64\n",
      "\n",
      "- distance -\n",
      "(-0.013000000000000001, 3.0]    83\n",
      "(3.0, 6.0]                      88\n",
      "(6.0, 9.0]                      48\n",
      "(9.0, 12.0]                      6\n",
      "Name: distance, dtype: int64\n",
      "\n",
      "- floors -\n",
      "(-0.196, 48.75]    216\n",
      "(48.75, 97.5]        2\n",
      "(97.5, 146.25]       4\n",
      "(146.25, 195.0]      3\n",
      "Name: floors, dtype: int64\n",
      "\n",
      "- mins_active_high -\n",
      "(-0.155, 38.5]    142\n",
      "(38.5, 77.0]       43\n",
      "(77.0, 115.5]      36\n",
      "(115.5, 154.0]      4\n",
      "Name: mins_active_high, dtype: int64\n",
      "\n",
      "- mins_active_light -\n",
      "(-0.35, 87.25]      24\n",
      "(87.25, 174.5]      53\n",
      "(174.5, 261.75]    121\n",
      "(261.75, 349.0]     27\n",
      "Name: mins_active_light, dtype: int64\n",
      "\n",
      "- mins_active_med -\n",
      "(-0.079, 19.5]    161\n",
      "(19.5, 39.0]       45\n",
      "(39.0, 58.5]       15\n",
      "(58.5, 78.0]        4\n",
      "Name: mins_active_med, dtype: int64\n",
      "\n",
      "- mins_sedentary -\n",
      "(26.587, 381.0]       1\n",
      "(381.0, 734.0]      102\n",
      "(734.0, 1087.0]      91\n",
      "(1087.0, 1440.0]     31\n",
      "Name: mins_sedentary, dtype: int64\n",
      "\n",
      "- steps -\n",
      "(-25.513, 6378.0]     83\n",
      "(6378.0, 12756.0]     89\n",
      "(12756.0, 19134.0]    48\n",
      "(19134.0, 25512.0]     5\n",
      "Name: steps, dtype: int64\n",
      "\n",
      "- total_calories -\n",
      "(794.599, 1899.0]      1\n",
      "(1899.0, 2999.0]      46\n",
      "(2999.0, 4099.0]     149\n",
      "(4099.0, 5199.0]      29\n",
      "Name: total_calories, dtype: int64\n",
      "\n",
      "- calories -\n",
      "(-2.2769999999999997, 569.0]    239\n",
      "(569.0, 1138.0]                   2\n",
      "(1138.0, 1707.0]                  2\n",
      "(1707.0, 2276.0]                  4\n",
      "Name: calories, dtype: int64\n",
      "\n",
      "- month -\n",
      "(3.991, 6.0]    66\n",
      "(6.0, 8.0]      62\n",
      "(8.0, 10.0]     61\n",
      "(10.0, 12.0]    58\n",
      "Name: month, dtype: int64\n",
      "\n",
      "- day -\n",
      "(0.969, 8.5]    64\n",
      "(8.5, 16.0]     64\n",
      "(16.0, 23.5]    56\n",
      "(23.5, 31.0]    63\n",
      "Name: day, dtype: int64\n"
     ]
    }
   ],
   "source": [
    "for col in df.select_dtypes('number'):\n",
    "    print(f'\\n- {col} -')\n",
    "    print(df[col].value_counts(bins=4, sort=False))"
   ]
  },
  {
   "cell_type": "markdown",
   "metadata": {},
   "source": [
    "**_Thoughts:_**\n",
    "> We are going to try and use Facebooks Prophet to generate quick time series data to fill missing values"
   ]
  },
  {
   "cell_type": "markdown",
   "metadata": {},
   "source": [
    "### Handle Duplicates"
   ]
  },
  {
   "cell_type": "markdown",
   "metadata": {},
   "source": [
    "**_TODO:_**\n",
    "> Do we have duplicated data??"
   ]
  },
  {
   "cell_type": "markdown",
   "metadata": {},
   "source": [
    "### Handle Outliers"
   ]
  },
  {
   "cell_type": "markdown",
   "metadata": {},
   "source": [
    "**_TODO:_**\n",
    "> Personally do not want to remove outliers here; however we should be finding the missing values"
   ]
  },
  {
   "cell_type": "markdown",
   "metadata": {},
   "source": [
    "### Re-Check Missing Values & Summary"
   ]
  },
  {
   "cell_type": "code",
   "execution_count": 7,
   "metadata": {},
   "outputs": [
    {
     "name": "stdout",
     "output_type": "stream",
     "text": [
      "--- Shape: (247, 19)\n",
      "--- Info\n",
      "<class 'pandas.core.frame.DataFrame'>\n",
      "DatetimeIndex: 247 entries, 2018-04-26 to 2018-12-28\n",
      "Data columns (total 19 columns):\n",
      "activity_calories    225 non-null float64\n",
      "distance             225 non-null float64\n",
      "floors               225 non-null float64\n",
      "mins_active_high     225 non-null float64\n",
      "mins_active_light    225 non-null float64\n",
      "mins_active_med      225 non-null float64\n",
      "mins_sedentary       225 non-null float64\n",
      "steps                225 non-null float64\n",
      "total_calories       225 non-null float64\n",
      "calories             247 non-null int64\n",
      "carbs                247 non-null object\n",
      "fat                  247 non-null object\n",
      "fiber                247 non-null object\n",
      "protien              247 non-null object\n",
      "sodium               247 non-null object\n",
      "water                247 non-null object\n",
      "month                247 non-null int64\n",
      "day                  247 non-null int64\n",
      "weekday              247 non-null object\n",
      "dtypes: float64(9), int64(3), object(7)\n",
      "memory usage: 38.6+ KB\n",
      "--- Descriptions\n",
      "        activity_calories    distance      floors  mins_active_high  \\\n",
      "count          225.000000  225.000000  225.000000        225.000000   \n",
      "unique                NaN         NaN         NaN               NaN   \n",
      "top                   NaN         NaN         NaN               NaN   \n",
      "freq                  NaN         NaN         NaN               NaN   \n",
      "mean          1484.546667    4.046800   12.591111         33.871111   \n",
      "std            747.795790    2.506253   25.844174         37.195986   \n",
      "min              0.000000    0.000000    0.000000          0.000000   \n",
      "25%           1062.000000    2.220000    2.000000          2.000000   \n",
      "50%           1481.000000    3.680000    7.000000         15.000000   \n",
      "75%           1962.000000    5.900000   13.000000         63.000000   \n",
      "max           3596.000000   12.000000  195.000000        154.000000   \n",
      "\n",
      "        mins_active_light  mins_active_med  mins_sedentary         steps  \\\n",
      "count          225.000000       225.000000      225.000000    225.000000   \n",
      "unique                NaN              NaN             NaN           NaN   \n",
      "top                   NaN              NaN             NaN           NaN   \n",
      "freq                  NaN              NaN             NaN           NaN   \n",
      "mean           188.235556        14.920000      809.520000   8536.186667   \n",
      "std             75.170001        15.363535      243.232639   5255.746608   \n",
      "min              0.000000         0.000000       28.000000      0.000000   \n",
      "25%            158.000000         3.000000      654.000000   4714.000000   \n",
      "50%            203.000000        11.000000      750.000000   7806.000000   \n",
      "75%            236.000000        21.000000      877.000000  12380.000000   \n",
      "max            349.000000        78.000000     1440.000000  25512.000000   \n",
      "\n",
      "        total_calories     calories carbs  fat fiber protien sodium    water  \\\n",
      "count       225.000000   247.000000   247  247   247     247    247      247   \n",
      "unique             NaN          NaN     9    9     7       9      9        1   \n",
      "top                NaN          NaN   0 g  0 g   0 g     0 g   0 mg  0 fl oz   \n",
      "freq               NaN          NaN   239  239   239     239    239      247   \n",
      "mean       3401.911111    51.129555   NaN  NaN   NaN     NaN    NaN      NaN   \n",
      "std         632.426578   300.846109   NaN  NaN   NaN     NaN    NaN      NaN   \n",
      "min         799.000000     0.000000   NaN  NaN   NaN     NaN    NaN      NaN   \n",
      "25%        3069.000000     0.000000   NaN  NaN   NaN     NaN    NaN      NaN   \n",
      "50%        3385.000000     0.000000   NaN  NaN   NaN     NaN    NaN      NaN   \n",
      "75%        3765.000000     0.000000   NaN  NaN   NaN     NaN    NaN      NaN   \n",
      "max        5199.000000  2276.000000   NaN  NaN   NaN     NaN    NaN      NaN   \n",
      "\n",
      "             month         day weekday  \n",
      "count   247.000000  247.000000     247  \n",
      "unique         NaN         NaN       7  \n",
      "top            NaN         NaN  Friday  \n",
      "freq           NaN         NaN      36  \n",
      "mean      8.364372   15.890688     NaN  \n",
      "std       2.341918    8.857969     NaN  \n",
      "min       4.000000    1.000000     NaN  \n",
      "25%       6.000000    8.000000     NaN  \n",
      "50%       8.000000   16.000000     NaN  \n",
      "75%      10.000000   24.000000     NaN  \n",
      "max      12.000000   31.000000     NaN  \n",
      "--- Nulls By Column\n",
      "                   num_rows_missing  pct_rows_missing\n",
      "activity_calories                22          0.089069\n",
      "distance                         22          0.089069\n",
      "floors                           22          0.089069\n",
      "mins_active_high                 22          0.089069\n",
      "mins_active_light                22          0.089069\n",
      "mins_active_med                  22          0.089069\n",
      "mins_sedentary                   22          0.089069\n",
      "steps                            22          0.089069\n",
      "total_calories                   22          0.089069\n",
      "calories                          0          0.000000\n",
      "carbs                             0          0.000000\n",
      "fat                               0          0.000000\n",
      "fiber                             0          0.000000\n",
      "protien                           0          0.000000\n",
      "sodium                            0          0.000000\n",
      "water                             0          0.000000\n",
      "month                             0          0.000000\n",
      "day                               0          0.000000\n",
      "weekday                           0          0.000000\n",
      "--- Nulls By Row\n",
      "  num_cols_missing    pct_cols_missing  num_rows\n",
      "0                0                 0.0       225\n",
      "1                9  47.368421052631575        22\n"
     ]
    }
   ],
   "source": [
    "df_summary(df)"
   ]
  },
  {
   "cell_type": "markdown",
   "metadata": {},
   "source": [
    "## Exploration  <a name=\"exploration\"></a>"
   ]
  },
  {
   "cell_type": "code",
   "execution_count": 8,
   "metadata": {},
   "outputs": [],
   "source": [
    "def createheatmap(df):\n",
    "    '''\n",
    "    Function we will use to create heatmaps with pretty specific parameters that keep these heatmaps uniform\n",
    "    '''\n",
    "    sns.set(style = \"white\")\n",
    "    corrd = df.corr()\n",
    "    mask = np.zeros_like(corrd, dtype=np.bool)    ### returns an array of zerros for NA's to fill each column; ensures each column is the same shape\n",
    "    mask[np.triu_indices_from(mask)] = True       ### returns the indices for the upper-triangle of an (n, m) array.\n",
    "    f, ax = plt.subplots(figsize=(15, 9))\n",
    "    cmap = sns.diverging_palette(220, 10, as_cmap=True)\n",
    "    sns.heatmap(corrd, mask=mask, cmap=cmap, square=True, \n",
    "                xticklabels=True, yticklabels=True, \n",
    "                linewidths=.5, ax=ax)\n",
    "\n",
    "def bin_feature(df, col, newcol, bin_cuts=[]):\n",
    "    '''\n",
    "    Function we will use to bin different columns during our exploration -> returns the dataframe with the column binned \n",
    "    '''\n",
    "    labs = list(range(len(bin_cuts)))[1:]\n",
    "    df[newcol] = pd.cut(df[col], bin_cuts, labels=labs, include_lowest=False)\n",
    "    \n",
    "    return df\n",
    "\n",
    "def summary_stat(df, col_name):\n",
    "    '''\n",
    "    Function to provide median, min, and max of data in column -> returns a new small dataframe with the info\n",
    "    '''\n",
    "    df = pd.DataFrame({'Mean ' : str(round(np.mean(df[col_name]),2)),\n",
    "         'Median' : str(np.median(df[col_name])),\n",
    "         'Min' : str(np.min(df[col_name])),\n",
    "         'Max' : str(np.max(df[col_name]))}, index=[0])\n",
    "    \n",
    "    return df"
   ]
  },
  {
   "cell_type": "markdown",
   "metadata": {},
   "source": [
    "**_Thoughts:_**\n",
    "> We want to see how each month looks stacked up together using the distance metric  \n",
    "> We want to get a total amount so that we can potentially look at the rolling average  \n",
    "> Instead of the distance we really do want to use **step count**"
   ]
  },
  {
   "cell_type": "code",
   "execution_count": 9,
   "metadata": {},
   "outputs": [
    {
     "data": {
      "text/html": [
       "<div>\n",
       "<style scoped>\n",
       "    .dataframe tbody tr th:only-of-type {\n",
       "        vertical-align: middle;\n",
       "    }\n",
       "\n",
       "    .dataframe tbody tr th {\n",
       "        vertical-align: top;\n",
       "    }\n",
       "\n",
       "    .dataframe thead th {\n",
       "        text-align: right;\n",
       "    }\n",
       "</style>\n",
       "<table border=\"1\" class=\"dataframe\">\n",
       "  <thead>\n",
       "    <tr style=\"text-align: right;\">\n",
       "      <th></th>\n",
       "      <th>activity_calories</th>\n",
       "      <th>distance</th>\n",
       "      <th>floors</th>\n",
       "      <th>mins_active_high</th>\n",
       "      <th>mins_active_light</th>\n",
       "      <th>mins_active_med</th>\n",
       "      <th>mins_sedentary</th>\n",
       "      <th>steps</th>\n",
       "      <th>total_calories</th>\n",
       "      <th>calories</th>\n",
       "      <th>carbs</th>\n",
       "      <th>fat</th>\n",
       "      <th>fiber</th>\n",
       "      <th>protien</th>\n",
       "      <th>sodium</th>\n",
       "      <th>water</th>\n",
       "      <th>day</th>\n",
       "      <th>weekday</th>\n",
       "    </tr>\n",
       "    <tr>\n",
       "      <th>month</th>\n",
       "      <th></th>\n",
       "      <th></th>\n",
       "      <th></th>\n",
       "      <th></th>\n",
       "      <th></th>\n",
       "      <th></th>\n",
       "      <th></th>\n",
       "      <th></th>\n",
       "      <th></th>\n",
       "      <th></th>\n",
       "      <th></th>\n",
       "      <th></th>\n",
       "      <th></th>\n",
       "      <th></th>\n",
       "      <th></th>\n",
       "      <th></th>\n",
       "      <th></th>\n",
       "      <th></th>\n",
       "    </tr>\n",
       "  </thead>\n",
       "  <tbody>\n",
       "    <tr>\n",
       "      <th>4</th>\n",
       "      <td>566.0</td>\n",
       "      <td>1.38</td>\n",
       "      <td>2.0</td>\n",
       "      <td>0.0</td>\n",
       "      <td>93.0</td>\n",
       "      <td>0.0</td>\n",
       "      <td>1347.0</td>\n",
       "      <td>2931.0</td>\n",
       "      <td>2635.0</td>\n",
       "      <td>0</td>\n",
       "      <td>0 g</td>\n",
       "      <td>0 g</td>\n",
       "      <td>0 g</td>\n",
       "      <td>0 g</td>\n",
       "      <td>0 mg</td>\n",
       "      <td>0 fl oz</td>\n",
       "      <td>26</td>\n",
       "      <td>Thursday</td>\n",
       "    </tr>\n",
       "    <tr>\n",
       "      <th>5</th>\n",
       "      <td>1068.0</td>\n",
       "      <td>1.22</td>\n",
       "      <td>0.0</td>\n",
       "      <td>2.0</td>\n",
       "      <td>167.0</td>\n",
       "      <td>13.0</td>\n",
       "      <td>919.0</td>\n",
       "      <td>2581.0</td>\n",
       "      <td>3292.0</td>\n",
       "      <td>0</td>\n",
       "      <td>0 g</td>\n",
       "      <td>0 g</td>\n",
       "      <td>0 g</td>\n",
       "      <td>0 g</td>\n",
       "      <td>0 mg</td>\n",
       "      <td>0 fl oz</td>\n",
       "      <td>1</td>\n",
       "      <td>Tuesday</td>\n",
       "    </tr>\n",
       "    <tr>\n",
       "      <th>6</th>\n",
       "      <td>1527.0</td>\n",
       "      <td>3.26</td>\n",
       "      <td>0.0</td>\n",
       "      <td>2.0</td>\n",
       "      <td>279.0</td>\n",
       "      <td>10.0</td>\n",
       "      <td>690.0</td>\n",
       "      <td>6916.0</td>\n",
       "      <td>3513.0</td>\n",
       "      <td>0</td>\n",
       "      <td>0 g</td>\n",
       "      <td>0 g</td>\n",
       "      <td>0 g</td>\n",
       "      <td>0 g</td>\n",
       "      <td>0 mg</td>\n",
       "      <td>0 fl oz</td>\n",
       "      <td>1</td>\n",
       "      <td>Friday</td>\n",
       "    </tr>\n",
       "    <tr>\n",
       "      <th>7</th>\n",
       "      <td>1125.0</td>\n",
       "      <td>2.22</td>\n",
       "      <td>4.0</td>\n",
       "      <td>0.0</td>\n",
       "      <td>232.0</td>\n",
       "      <td>0.0</td>\n",
       "      <td>1005.0</td>\n",
       "      <td>4714.0</td>\n",
       "      <td>3090.0</td>\n",
       "      <td>0</td>\n",
       "      <td>0 g</td>\n",
       "      <td>0 g</td>\n",
       "      <td>0 g</td>\n",
       "      <td>0 g</td>\n",
       "      <td>0 mg</td>\n",
       "      <td>0 fl oz</td>\n",
       "      <td>1</td>\n",
       "      <td>Sunday</td>\n",
       "    </tr>\n",
       "    <tr>\n",
       "      <th>8</th>\n",
       "      <td>2692.0</td>\n",
       "      <td>7.48</td>\n",
       "      <td>15.0</td>\n",
       "      <td>96.0</td>\n",
       "      <td>259.0</td>\n",
       "      <td>9.0</td>\n",
       "      <td>608.0</td>\n",
       "      <td>15714.0</td>\n",
       "      <td>4458.0</td>\n",
       "      <td>0</td>\n",
       "      <td>0 g</td>\n",
       "      <td>0 g</td>\n",
       "      <td>0 g</td>\n",
       "      <td>0 g</td>\n",
       "      <td>0 mg</td>\n",
       "      <td>0 fl oz</td>\n",
       "      <td>27</td>\n",
       "      <td>Monday</td>\n",
       "    </tr>\n",
       "    <tr>\n",
       "      <th>9</th>\n",
       "      <td>852.0</td>\n",
       "      <td>1.86</td>\n",
       "      <td>7.0</td>\n",
       "      <td>5.0</td>\n",
       "      <td>133.0</td>\n",
       "      <td>13.0</td>\n",
       "      <td>798.0</td>\n",
       "      <td>3952.0</td>\n",
       "      <td>3020.0</td>\n",
       "      <td>0</td>\n",
       "      <td>0 g</td>\n",
       "      <td>0 g</td>\n",
       "      <td>0 g</td>\n",
       "      <td>0 g</td>\n",
       "      <td>0 mg</td>\n",
       "      <td>0 fl oz</td>\n",
       "      <td>1</td>\n",
       "      <td>Saturday</td>\n",
       "    </tr>\n",
       "    <tr>\n",
       "      <th>10</th>\n",
       "      <td>1330.0</td>\n",
       "      <td>3.92</td>\n",
       "      <td>8.0</td>\n",
       "      <td>24.0</td>\n",
       "      <td>201.0</td>\n",
       "      <td>5.0</td>\n",
       "      <td>813.0</td>\n",
       "      <td>8307.0</td>\n",
       "      <td>3180.0</td>\n",
       "      <td>0</td>\n",
       "      <td>0 g</td>\n",
       "      <td>0 g</td>\n",
       "      <td>0 g</td>\n",
       "      <td>0 g</td>\n",
       "      <td>0 mg</td>\n",
       "      <td>0 fl oz</td>\n",
       "      <td>1</td>\n",
       "      <td>Monday</td>\n",
       "    </tr>\n",
       "    <tr>\n",
       "      <th>11</th>\n",
       "      <td>1689.0</td>\n",
       "      <td>7.14</td>\n",
       "      <td>11.0</td>\n",
       "      <td>80.0</td>\n",
       "      <td>164.0</td>\n",
       "      <td>12.0</td>\n",
       "      <td>698.0</td>\n",
       "      <td>15134.0</td>\n",
       "      <td>3448.0</td>\n",
       "      <td>0</td>\n",
       "      <td>0 g</td>\n",
       "      <td>0 g</td>\n",
       "      <td>0 g</td>\n",
       "      <td>0 g</td>\n",
       "      <td>0 mg</td>\n",
       "      <td>0 fl oz</td>\n",
       "      <td>1</td>\n",
       "      <td>Thursday</td>\n",
       "    </tr>\n",
       "    <tr>\n",
       "      <th>12</th>\n",
       "      <td>2124.0</td>\n",
       "      <td>7.27</td>\n",
       "      <td>7.0</td>\n",
       "      <td>67.0</td>\n",
       "      <td>233.0</td>\n",
       "      <td>22.0</td>\n",
       "      <td>527.0</td>\n",
       "      <td>14510.0</td>\n",
       "      <td>3813.0</td>\n",
       "      <td>0</td>\n",
       "      <td>0 g</td>\n",
       "      <td>0 g</td>\n",
       "      <td>0 g</td>\n",
       "      <td>0 g</td>\n",
       "      <td>0 mg</td>\n",
       "      <td>0 fl oz</td>\n",
       "      <td>1</td>\n",
       "      <td>Saturday</td>\n",
       "    </tr>\n",
       "  </tbody>\n",
       "</table>\n",
       "</div>"
      ],
      "text/plain": [
       "       activity_calories  distance  floors  mins_active_high  \\\n",
       "month                                                          \n",
       "4                  566.0      1.38     2.0               0.0   \n",
       "5                 1068.0      1.22     0.0               2.0   \n",
       "6                 1527.0      3.26     0.0               2.0   \n",
       "7                 1125.0      2.22     4.0               0.0   \n",
       "8                 2692.0      7.48    15.0              96.0   \n",
       "9                  852.0      1.86     7.0               5.0   \n",
       "10                1330.0      3.92     8.0              24.0   \n",
       "11                1689.0      7.14    11.0              80.0   \n",
       "12                2124.0      7.27     7.0              67.0   \n",
       "\n",
       "       mins_active_light  mins_active_med  mins_sedentary    steps  \\\n",
       "month                                                                \n",
       "4                   93.0              0.0          1347.0   2931.0   \n",
       "5                  167.0             13.0           919.0   2581.0   \n",
       "6                  279.0             10.0           690.0   6916.0   \n",
       "7                  232.0              0.0          1005.0   4714.0   \n",
       "8                  259.0              9.0           608.0  15714.0   \n",
       "9                  133.0             13.0           798.0   3952.0   \n",
       "10                 201.0              5.0           813.0   8307.0   \n",
       "11                 164.0             12.0           698.0  15134.0   \n",
       "12                 233.0             22.0           527.0  14510.0   \n",
       "\n",
       "       total_calories  calories carbs  fat fiber protien sodium    water  day  \\\n",
       "month                                                                           \n",
       "4              2635.0         0   0 g  0 g   0 g     0 g   0 mg  0 fl oz   26   \n",
       "5              3292.0         0   0 g  0 g   0 g     0 g   0 mg  0 fl oz    1   \n",
       "6              3513.0         0   0 g  0 g   0 g     0 g   0 mg  0 fl oz    1   \n",
       "7              3090.0         0   0 g  0 g   0 g     0 g   0 mg  0 fl oz    1   \n",
       "8              4458.0         0   0 g  0 g   0 g     0 g   0 mg  0 fl oz   27   \n",
       "9              3020.0         0   0 g  0 g   0 g     0 g   0 mg  0 fl oz    1   \n",
       "10             3180.0         0   0 g  0 g   0 g     0 g   0 mg  0 fl oz    1   \n",
       "11             3448.0         0   0 g  0 g   0 g     0 g   0 mg  0 fl oz    1   \n",
       "12             3813.0         0   0 g  0 g   0 g     0 g   0 mg  0 fl oz    1   \n",
       "\n",
       "        weekday  \n",
       "month            \n",
       "4      Thursday  \n",
       "5       Tuesday  \n",
       "6        Friday  \n",
       "7        Sunday  \n",
       "8        Monday  \n",
       "9      Saturday  \n",
       "10       Monday  \n",
       "11     Thursday  \n",
       "12     Saturday  "
      ]
     },
     "execution_count": 9,
     "metadata": {},
     "output_type": "execute_result"
    }
   ],
   "source": [
    "df.groupby('month').first()    ### Compute first of group values"
   ]
  },
  {
   "cell_type": "markdown",
   "metadata": {},
   "source": [
    "**_Thoughts:_**\n",
    "> Here we want to see if the total distance traveled has a trend by month  \n",
    "> This person had a peak in distance traveled in November; he must have just gotten the FitBit in April  \n",
    "> We can also add steps once we fill all missing values"
   ]
  },
  {
   "cell_type": "code",
   "execution_count": 10,
   "metadata": {},
   "outputs": [
    {
     "data": {
      "text/html": [
       "<div>\n",
       "<style scoped>\n",
       "    .dataframe tbody tr th:only-of-type {\n",
       "        vertical-align: middle;\n",
       "    }\n",
       "\n",
       "    .dataframe tbody tr th {\n",
       "        vertical-align: top;\n",
       "    }\n",
       "\n",
       "    .dataframe thead th {\n",
       "        text-align: right;\n",
       "    }\n",
       "</style>\n",
       "<table border=\"1\" class=\"dataframe\">\n",
       "  <thead>\n",
       "    <tr style=\"text-align: right;\">\n",
       "      <th></th>\n",
       "      <th>distance</th>\n",
       "      <th>steps</th>\n",
       "      <th>calories</th>\n",
       "      <th>activity_calories</th>\n",
       "    </tr>\n",
       "    <tr>\n",
       "      <th>month</th>\n",
       "      <th></th>\n",
       "      <th></th>\n",
       "      <th></th>\n",
       "      <th></th>\n",
       "    </tr>\n",
       "  </thead>\n",
       "  <tbody>\n",
       "    <tr>\n",
       "      <th>4</th>\n",
       "      <td>9.13</td>\n",
       "      <td>19385.0</td>\n",
       "      <td>0</td>\n",
       "      <td>4584.0</td>\n",
       "    </tr>\n",
       "    <tr>\n",
       "      <th>5</th>\n",
       "      <td>60.76</td>\n",
       "      <td>128837.0</td>\n",
       "      <td>1210</td>\n",
       "      <td>30534.0</td>\n",
       "    </tr>\n",
       "    <tr>\n",
       "      <th>6</th>\n",
       "      <td>56.34</td>\n",
       "      <td>119416.0</td>\n",
       "      <td>0</td>\n",
       "      <td>27715.0</td>\n",
       "    </tr>\n",
       "    <tr>\n",
       "      <th>7</th>\n",
       "      <td>101.18</td>\n",
       "      <td>214419.0</td>\n",
       "      <td>0</td>\n",
       "      <td>41289.0</td>\n",
       "    </tr>\n",
       "    <tr>\n",
       "      <th>8</th>\n",
       "      <td>157.33</td>\n",
       "      <td>333063.0</td>\n",
       "      <td>0</td>\n",
       "      <td>58960.0</td>\n",
       "    </tr>\n",
       "    <tr>\n",
       "      <th>9</th>\n",
       "      <td>109.65</td>\n",
       "      <td>231963.0</td>\n",
       "      <td>0</td>\n",
       "      <td>40406.0</td>\n",
       "    </tr>\n",
       "    <tr>\n",
       "      <th>10</th>\n",
       "      <td>177.94</td>\n",
       "      <td>376631.0</td>\n",
       "      <td>0</td>\n",
       "      <td>55177.0</td>\n",
       "    </tr>\n",
       "    <tr>\n",
       "      <th>11</th>\n",
       "      <td>198.61</td>\n",
       "      <td>413844.0</td>\n",
       "      <td>11419</td>\n",
       "      <td>63343.0</td>\n",
       "    </tr>\n",
       "    <tr>\n",
       "      <th>12</th>\n",
       "      <td>39.59</td>\n",
       "      <td>83084.0</td>\n",
       "      <td>0</td>\n",
       "      <td>12015.0</td>\n",
       "    </tr>\n",
       "  </tbody>\n",
       "</table>\n",
       "</div>"
      ],
      "text/plain": [
       "       distance     steps  calories  activity_calories\n",
       "month                                                 \n",
       "4          9.13   19385.0         0             4584.0\n",
       "5         60.76  128837.0      1210            30534.0\n",
       "6         56.34  119416.0         0            27715.0\n",
       "7        101.18  214419.0         0            41289.0\n",
       "8        157.33  333063.0         0            58960.0\n",
       "9        109.65  231963.0         0            40406.0\n",
       "10       177.94  376631.0         0            55177.0\n",
       "11       198.61  413844.0     11419            63343.0\n",
       "12        39.59   83084.0         0            12015.0"
      ]
     },
     "execution_count": 10,
     "metadata": {},
     "output_type": "execute_result"
    }
   ],
   "source": [
    "df.groupby('month')[['distance', 'steps', 'calories', 'activity_calories']].sum()    ### Compute each months total distance and total steps"
   ]
  },
  {
   "cell_type": "markdown",
   "metadata": {},
   "source": [
    "**_Thoughts:_**\n",
    "> Let's graph a boxplot so we can see the information regarding the shape, variability, and center (or median) of monthly distance"
   ]
  },
  {
   "cell_type": "code",
   "execution_count": 11,
   "metadata": {},
   "outputs": [
    {
     "data": {
      "text/plain": [
       "Text(0.5, 0, 'Month')"
      ]
     },
     "execution_count": 11,
     "metadata": {},
     "output_type": "execute_result"
    },
    {
     "data": {
      "image/png": "[encoded data removed]",
      "text/plain": [
       "<Figure size 864x432 with 1 Axes>"
      ]
     },
     "metadata": {
      "needs_background": "light"
     },
     "output_type": "display_data"
    }
   ],
   "source": [
    "df.boxplot(column = 'steps', by = 'month', figsize=(12,6))\n",
    "\n",
    "plt.xticks(fontsize=14)  \n",
    "plt.yticks(fontsize=14)\n",
    "\n",
    "plt.title('')\n",
    "plt.suptitle('Monthly Steps Boxplot')\n",
    "plt.ylabel('Steps')\n",
    "plt.xlabel('Month')"
   ]
  },
  {
   "cell_type": "markdown",
   "metadata": {},
   "source": [
    "**_Thoughts:_**\n",
    "> Individuals walked distance increased significantly in August.  \n",
    "> His/Her distance remained stable in November and December. However, in May through August, it rose suddenly.  \n",
    "> In August and September, there was a sudden drop in distance."
   ]
  },
  {
   "cell_type": "code",
   "execution_count": 12,
   "metadata": {},
   "outputs": [
    {
     "data": {
      "text/plain": [
       "Text(0, 0.5, 'Distance')"
      ]
     },
     "execution_count": 12,
     "metadata": {},
     "output_type": "execute_result"
    },
    {
     "data": {
      "image/png": "[encoded data removed]",
      "text/plain": [
       "<Figure size 864x432 with 1 Axes>"
      ]
     },
     "metadata": {
      "needs_background": "light"
     },
     "output_type": "display_data"
    }
   ],
   "source": [
    "fig = plt.figure(figsize = (12,6))\n",
    "\n",
    "ax = fig.add_subplot(111)\n",
    "DOWdf = df.groupby(by='weekday').mean()\n",
    "meanDOW = DOWdf['distance']\n",
    "meanDOW.plot(linestyle='-', marker='o', markersize=10)\n",
    "\n",
    "ax.get_xaxis().tick_bottom()  \n",
    "ax.get_yaxis().tick_left()\n",
    "\n",
    "plt.xticks(fontsize=10)  \n",
    "plt.yticks(fontsize=14)  \n",
    "\n",
    "plt.title('Distance Walked vs. Day of the Week', fontsize=15)\n",
    "plt.xlabel('Weekday', fontsize=14)\n",
    "plt.xlabel('Day of the Week')\n",
    "plt.xlabel(meanDOW.index.name, fontsize=14)\n",
    "plt.ylabel('Distance', fontsize=14)"
   ]
  },
  {
   "cell_type": "markdown",
   "metadata": {},
   "source": [
    "**_TODO:_**\n",
    "> Need to write a detailed breakdown of what the data shows us here  \n",
    "> Need to update code to show what day of the week each tickmark represents"
   ]
  },
  {
   "cell_type": "code",
   "execution_count": 13,
   "metadata": {},
   "outputs": [
    {
     "data": {
      "image/png": "[encoded data removed]",
      "text/plain": [
       "<Figure size 1080x648 with 2 Axes>"
      ]
     },
     "metadata": {},
     "output_type": "display_data"
    }
   ],
   "source": [
    "createheatmap(df.drop(columns=['total_calories']))"
   ]
  },
  {
   "cell_type": "markdown",
   "metadata": {},
   "source": [
    "**_TODO:_**\n",
    "> Need to figure out different correlations here speak to them...  \n",
    "> Currently - Total year has too many missing values & year only has the one  \n",
    "> Which variables are we going to start binning?  \n",
    "> Which statistical models are we going to start preparing for?"
   ]
  },
  {
   "cell_type": "markdown",
   "metadata": {},
   "source": [
    "**_TODO: Workday hours, Non workday hours, Weekend hours_**\n",
    "> Can we create two seperate df for each test  \n",
    "> New df's will include:\n",
    "> 1. Days of the week\n",
    "> 2. Hours from 9 to 5 (as type int)"
   ]
  },
  {
   "cell_type": "markdown",
   "metadata": {},
   "source": [
    "### Train-Test Split"
   ]
  },
  {
   "cell_type": "markdown",
   "metadata": {},
   "source": [
    "**_TODO:_**\n",
    "> 1. Modeling Time Series Using Parametric Methods  \n",
    "> 2. Prophet"
   ]
  },
  {
   "cell_type": "markdown",
   "metadata": {},
   "source": [
    "### Visualizations"
   ]
  },
  {
   "cell_type": "markdown",
   "metadata": {},
   "source": [
    "**_TODO:_**\n",
    "> **TIME TO SHINE!**"
   ]
  },
  {
   "cell_type": "markdown",
   "metadata": {},
   "source": [
    "### Statistical Tests"
   ]
  },
  {
   "cell_type": "code",
   "execution_count": 14,
   "metadata": {},
   "outputs": [],
   "source": [
    "def calculate_r2(Actual_Y, Estimated_Y):\n",
    "    '''\n",
    "    Function that calculates R squared\n",
    "    '''\n",
    "    return float(1 - sum((Actual_Y-Estimated_Y)**2 ) / sum((Actual_Y-Actual_Y.mean(axis=0))**2))\n",
    "\n",
    "def calculate_rmse(Actual_Y, Estimated_Y):\n",
    "    '''\n",
    "    Function that calculates Root Mean Squared Error\n",
    "    '''\n",
    "    return(math.sqrt(sum((Actual_Y-Estimated_Y )**2 ) / Actual_Y.shape[0]))\n",
    "\n",
    "def evaluate(actual, predictions, output=True):\n",
    "    '''\n",
    "    Function calculates the mean squared error and the root mean square error by taking the square root of the mse\n",
    "    '''\n",
    "    mse = metrics.mean_squared_error(actual, predictions)\n",
    "    rmse = math.sqrt(mse)\n",
    "\n",
    "    if output:\n",
    "        print('MSE:  {}'.format(mse))\n",
    "        print('RMSE: {}'.format(rmse))\n",
    "    else:\n",
    "        return mse, rmse    "
   ]
  },
  {
   "cell_type": "markdown",
   "metadata": {},
   "source": [
    "### Summarize Conclusions"
   ]
  },
  {
   "cell_type": "markdown",
   "metadata": {},
   "source": [
    "**_TODO:_**\n",
    "> Summarize our statistical findings"
   ]
  },
  {
   "cell_type": "markdown",
   "metadata": {},
   "source": [
    "## Modeling <a name=\"modeling\"></a>"
   ]
  },
  {
   "cell_type": "markdown",
   "metadata": {},
   "source": [
    "### Prophet Model\n",
    "**_Objective:_**\n",
    "> Build a model that will predict data from 12/07 to 12/28  \n",
    "> We will first be using a Prophet model: https://facebook.github.io/prophet/docs/quick_start.html  \n",
    "> Prophet only takes data as a dataframe with a ds (datestamp) and y (value we want to forecast) column  \n",
    "> We will be adding these columns to our original dataframe"
   ]
  },
  {
   "cell_type": "code",
   "execution_count": 22,
   "metadata": {},
   "outputs": [
    {
     "ename": "NameError",
     "evalue": "name 'df_prophet' is not defined",
     "output_type": "error",
     "traceback": [
      "\u001b[0;31m---------------------------------------------------------------------------\u001b[0m",
      "\u001b[0;31mNameError\u001b[0m                                 Traceback (most recent call last)",
      "\u001b[0;32m<ipython-input-22-251b79af0186>\u001b[0m in \u001b[0;36m<module>\u001b[0;34m\u001b[0m\n\u001b[0;32m----> 1\u001b[0;31m \u001b[0mdf_prophet\u001b[0m\u001b[0;34m[\u001b[0m\u001b[0;34m'ds'\u001b[0m\u001b[0;34m]\u001b[0m \u001b[0;34m=\u001b[0m \u001b[0mdf\u001b[0m\u001b[0;34m.\u001b[0m\u001b[0mindex\u001b[0m\u001b[0;34m\u001b[0m\u001b[0;34m\u001b[0m\u001b[0m\n\u001b[0m\u001b[1;32m      2\u001b[0m \u001b[0mdf_prophet\u001b[0m\u001b[0;34m[\u001b[0m\u001b[0;34m'y'\u001b[0m\u001b[0;34m]\u001b[0m \u001b[0;34m=\u001b[0m \u001b[0mdf\u001b[0m\u001b[0;34m.\u001b[0m\u001b[0msteps\u001b[0m\u001b[0;34m\u001b[0m\u001b[0;34m\u001b[0m\u001b[0m\n\u001b[1;32m      3\u001b[0m \u001b[0;34m\u001b[0m\u001b[0m\n\u001b[1;32m      4\u001b[0m \u001b[0mm\u001b[0m \u001b[0;34m=\u001b[0m \u001b[0mProphet\u001b[0m\u001b[0;34m(\u001b[0m\u001b[0myearly_seasonality\u001b[0m \u001b[0;34m=\u001b[0m \u001b[0;32mTrue\u001b[0m\u001b[0;34m,\u001b[0m \u001b[0mseasonality_prior_scale\u001b[0m\u001b[0;34m=\u001b[0m\u001b[0;36m0.3\u001b[0m\u001b[0;34m)\u001b[0m\u001b[0;34m\u001b[0m\u001b[0;34m\u001b[0m\u001b[0m\n\u001b[1;32m      5\u001b[0m \u001b[0mm\u001b[0m\u001b[0;34m.\u001b[0m\u001b[0mfit\u001b[0m\u001b[0;34m(\u001b[0m\u001b[0mdf\u001b[0m\u001b[0;34m)\u001b[0m\u001b[0;34m\u001b[0m\u001b[0;34m\u001b[0m\u001b[0m\n",
      "\u001b[0;31mNameError\u001b[0m: name 'df_prophet' is not defined"
     ]
    }
   ],
   "source": [
    "df_prophet['ds'] = df.index\n",
    "df_prophet['y'] = df.steps\n",
    "\n",
    "m = Prophet(yearly_seasonality = True, seasonality_prior_scale=0.3)\n",
    "m.fit(df)\n",
    "\n",
    "forecast = m.predict(df_prophet)\n",
    "forecast[['ds', 'yhat', 'yhat_lower', 'yhat_upper']].tail()\n",
    "\n",
    "fig1 = m.plot(forecast)\n",
    "plt.ylabel('Step Count', fontsize=12)\n",
    "plt.xlabel('Date', fontsize=12)\n",
    "\n",
    "\n",
    "fig2 = m.plot_components(forecast)"
   ]
  },
  {
   "cell_type": "code",
   "execution_count": 21,
   "metadata": {},
   "outputs": [
    {
     "name": "stderr",
     "output_type": "stream",
     "text": [
      "INFO:fbprophet:Making 7 forecasts with cutoffs between 2018-08-08 00:00:00 and 2018-11-06 00:00:00\n"
     ]
    },
    {
     "name": "stdout",
     "output_type": "stream",
     "text": [
      "\n",
      "\n",
      "    horizon           mse         rmse          mae       mape  coverage\n",
      "92   3 days  2.931818e+07  5414.626307  4537.581366  10.446459  0.428571\n",
      "63   4 days  2.871746e+07  5358.867301  4415.119571  10.447570  0.476190\n",
      "153  4 days  2.856383e+07  5344.514127  4341.942101  10.442371  0.476190\n",
      "33   4 days  2.608261e+07  5107.113769  4216.974535   2.597598  0.476190\n",
      "183  4 days  2.452646e+07  4952.419454  4056.428161   2.590250  0.523810\n",
      "\n",
      "\n"
     ]
    },
    {
     "data": {
      "text/plain": [
       "Text(0, 0.5, 'Mean Squared Error')"
      ]
     },
     "execution_count": 21,
     "metadata": {},
     "output_type": "execute_result"
    },
    {
     "data": {
      "image/png": "[encoded data removed]",
      "text/plain": [
       "<Figure size 720x432 with 1 Axes>"
      ]
     },
     "metadata": {},
     "output_type": "display_data"
    }
   ],
   "source": [
    "### Evaluation using Prophet’s cross validation (built in function)\n",
    "from fbprophet.diagnostics import cross_validation, performance_metrics\n",
    "\n",
    "df_cv = cross_validation(m, horizon='30 days')\n",
    "\n",
    "df_p = pd.DataFrame(performance_metrics(df_cv))\n",
    "print('\\n')\n",
    "print(df_p.head(5))\n",
    "print('\\n')\n",
    "\n",
    "### Evaluation using Prophet’s cross validation plot (built in function)\n",
    "from fbprophet.plot import plot_cross_validation_metric, plot_forecast_component\n",
    "\n",
    "fig3 = plot_cross_validation_metric(df_cv, metric='rmse')\n",
    "plt.ylabel('Mean Squared Error', fontsize=10)"
   ]
  },
  {
   "cell_type": "markdown",
   "metadata": {},
   "source": [
    "### Feature Engineering & Selection"
   ]
  },
  {
   "cell_type": "code",
   "execution_count": 17,
   "metadata": {},
   "outputs": [],
   "source": [
    "def new_features(df):\n",
    "    '''\n",
    "    Function used to create new features -> returns the original dataframe with new features added\n",
    "    '''\n",
    "    return df\n",
    "\n",
    "def plot_data_and_predictions(predictions, label):\n",
    "    '''\n",
    "    Function plots using matplotlib\n",
    "    '''\n",
    "    plt.figure(figsize=(10, 8))\n",
    "\n",
    "    plt.plot(train,label='Train')\n",
    "    plt.plot(test, label='Test')\n",
    "    plt.plot(predictions, label=label, linewidth=5)\n",
    "\n",
    "    plt.legend(loc='best')\n",
    "    plt.show()\n",
    "\n",
    "### Add plot_and_eval function from curriculum"
   ]
  },
  {
   "cell_type": "markdown",
   "metadata": {},
   "source": [
    "### Train & Test Models"
   ]
  },
  {
   "cell_type": "markdown",
   "metadata": {},
   "source": [
    "**_TODO:_**\n",
    "> Build some models here:\n",
    "1. Would like to build a few functions here so that we could do differnt ML methods\n",
    "2. What is going to be our goal??\n",
    "3. I think we need to separate the data into different slices (i.e. use Sunday thru Friday to predict Saturday; Monday thru Saturday to predict Sunday... and so on)"
   ]
  },
  {
   "cell_type": "markdown",
   "metadata": {},
   "source": [
    "### Summarize Conclusions"
   ]
  },
  {
   "cell_type": "markdown",
   "metadata": {},
   "source": [
    "**_TODO:_**\n",
    "> Sumarize our training and test builds  \n",
    "> Create the CSV  \n",
    "> Find differnt ways to improve  "
   ]
  }
 ],
 "metadata": {
  "kernelspec": {
   "display_name": "Python 3",
   "language": "python",
   "name": "python3"
  },
  "language_info": {
   "codemirror_mode": {
    "name": "ipython",
    "version": 3
   },
   "file_extension": ".py",
   "mimetype": "text/x-python",
   "name": "python",
   "nbconvert_exporter": "python",
   "pygments_lexer": "ipython3",
   "version": "3.7.1"
  }
 },
 "nbformat": 4,
 "nbformat_minor": 2
}
